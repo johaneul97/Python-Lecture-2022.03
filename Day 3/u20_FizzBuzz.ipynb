{
  "nbformat": 4,
  "nbformat_minor": 0,
  "metadata": {
    "colab": {
      "name": "u20_FizzBuzz.ipynb",
      "provenance": []
    },
    "kernelspec": {
      "name": "python3",
      "display_name": "Python 3"
    },
    "language_info": {
      "name": "python"
    }
  },
  "cells": [
    {
      "cell_type": "markdown",
      "source": [
        "# Unit 20. FizzBuzz"
      ],
      "metadata": {
        "id": "-RqTd2vPxdmj"
      }
    },
    {
      "cell_type": "code",
      "source": [
        "for i in range(1, 101):\n",
        "  if i % 15 == 0:\n",
        "    print('FizzBuzz', end=' ')\n",
        "  elif i % 3 ==0:\n",
        "    print('Fizz', end=' ')\n",
        "  elif i % 5 ==0:\n",
        "    print('Buzz', end=' ')\n",
        "  else:\n",
        "    print(i, end=' ')"
      ],
      "metadata": {
        "colab": {
          "base_uri": "https://localhost:8080/"
        },
        "id": "SxkqD4GDxheF",
        "outputId": "61f02c24-a77e-43ad-b3a6-641d0a637a92"
      },
      "execution_count": 1,
      "outputs": [
        {
          "output_type": "stream",
          "name": "stdout",
          "text": [
            "1 2 Fizz 4 Buzz Fizz 7 8 Fizz Buzz 11 Fizz 13 14 FizzBuzz 16 17 Fizz 19 Buzz Fizz 22 23 Fizz Buzz 26 Fizz 28 29 FizzBuzz 31 32 Fizz 34 Buzz Fizz 37 38 Fizz Buzz 41 Fizz 43 44 FizzBuzz 46 47 Fizz 49 Buzz Fizz 52 53 Fizz Buzz 56 Fizz 58 59 FizzBuzz 61 62 Fizz 64 Buzz Fizz 67 68 Fizz Buzz 71 Fizz 73 74 FizzBuzz 76 77 Fizz 79 Buzz Fizz 82 83 Fizz Buzz 86 Fizz 88 89 FizzBuzz 91 92 Fizz 94 Buzz Fizz 97 98 Fizz Buzz "
          ]
        }
      ]
    },
    {
      "cell_type": "code",
      "source": [
        "for i in range(1, 101):\n",
        "  print('Fizz'*(i%3==0) + 'Buzz'*(i%5==0) or i, end=' ')\n",
        "       #값이 나오면 true & 뒤에 조건은 안나옵니다.\n",
        "       # False가 나오면 False(문자없음) + i = i 출력"
      ],
      "metadata": {
        "colab": {
          "base_uri": "https://localhost:8080/"
        },
        "id": "bBcDzLa0zRjZ",
        "outputId": "a6907941-b272-4859-af29-4c763adcff53"
      },
      "execution_count": 3,
      "outputs": [
        {
          "output_type": "stream",
          "name": "stdout",
          "text": [
            "1 2 Fizz 4 Buzz Fizz 7 8 Fizz Buzz 11 Fizz 13 14 FizzBuzz 16 17 Fizz 19 Buzz Fizz 22 23 Fizz Buzz 26 Fizz 28 29 FizzBuzz 31 32 Fizz 34 Buzz Fizz 37 38 Fizz Buzz 41 Fizz 43 44 FizzBuzz 46 47 Fizz 49 Buzz Fizz 52 53 Fizz Buzz 56 Fizz 58 59 FizzBuzz 61 62 Fizz 64 Buzz Fizz 67 68 Fizz Buzz 71 Fizz 73 74 FizzBuzz 76 77 Fizz 79 Buzz Fizz 82 83 Fizz Buzz 86 Fizz 88 89 FizzBuzz 91 92 Fizz 94 Buzz Fizz 97 98 Fizz Buzz "
          ]
        }
      ]
    },
    {
      "cell_type": "markdown",
      "source": [
        "### 연습문제\n",
        "<pre>\n",
        "세자리수 두개를 곱해서 만든 수가 대칭수\n",
        "(palindrome)일때\n",
        "가장큰 대칭 수와 그 경우 두 수를 구하시오"
      ],
      "metadata": {
        "id": "KpmTzEaf0qIh"
      }
    },
    {
      "cell_type": "code",
      "source": [
        "for i in range(100,1000):\n",
        "  for k in range(i, 1000):\n",
        "    mul = i * k"
      ],
      "metadata": {
        "id": "wIBO5xwD0Q0q"
      },
      "execution_count": 4,
      "outputs": []
    },
    {
      "cell_type": "code",
      "source": [
        "# 대칭수인지를 판단해주는 함수 \n",
        "def is_palindrome(n):\n",
        "  s = str(n)\n",
        "  return s == s[::-1]"
      ],
      "metadata": {
        "id": "6oTvXCYC1Sbu"
      },
      "execution_count": 5,
      "outputs": []
    },
    {
      "cell_type": "code",
      "source": [
        "is_palindrome(12321)"
      ],
      "metadata": {
        "colab": {
          "base_uri": "https://localhost:8080/"
        },
        "id": "iaNaMMBN1dHs",
        "outputId": "496a0c36-3ef0-4649-8ab2-50c9807cbb7b"
      },
      "execution_count": 6,
      "outputs": [
        {
          "output_type": "execute_result",
          "data": {
            "text/plain": [
              "True"
            ]
          },
          "metadata": {},
          "execution_count": 6
        }
      ]
    },
    {
      "cell_type": "code",
      "source": [
        "# num_list중 최대값은?\n",
        "num_list = [34, 25, 4, 9, 19, 83, 62]\n",
        "max_num = 0\n",
        "for num in num_list:\n",
        "  if num > max_num:\n",
        "     max_num = num\n",
        "print(max_num)"
      ],
      "metadata": {
        "colab": {
          "base_uri": "https://localhost:8080/"
        },
        "id": "kP7SR-mo6huJ",
        "outputId": "7d27b5ea-1517-4157-9a4e-fb9dea5bcb6b"
      },
      "execution_count": 25,
      "outputs": [
        {
          "output_type": "stream",
          "name": "stdout",
          "text": [
            "83\n"
          ]
        }
      ]
    },
    {
      "cell_type": "code",
      "source": [
        "# num_list중 최소값은?\n",
        "min_num = 100\n",
        "for num in num_list:\n",
        "  if num < min_num:\n",
        "     min_num = num\n",
        "print(min_num)"
      ],
      "metadata": {
        "colab": {
          "base_uri": "https://localhost:8080/"
        },
        "id": "7CXrNwj-72r9",
        "outputId": "bbbf028a-bcee-4189-a9b6-581fd4841467"
      },
      "execution_count": 29,
      "outputs": [
        {
          "output_type": "stream",
          "name": "stdout",
          "text": [
            "4\n"
          ]
        }
      ]
    },
    {
      "cell_type": "code",
      "source": [
        "max_num = 0\n",
        "for i in range(100, 1000):\n",
        "  for k in range(i, 1000):\n",
        "    mul = i * k\n",
        "    if is_palindrome(mul):\n",
        "      if mul > max_num:\n",
        "        max_num = mul\n",
        "        num1, num2 = i, k\n",
        "\n",
        "print(num1, num2, max_num)"
      ],
      "metadata": {
        "colab": {
          "base_uri": "https://localhost:8080/"
        },
        "id": "wWlQsJlH4LrN",
        "outputId": "dec613f9-dbcd-44a8-de70-7a6e8361d89d"
      },
      "execution_count": 30,
      "outputs": [
        {
          "output_type": "stream",
          "name": "stdout",
          "text": [
            "913 993 906609\n"
          ]
        }
      ]
    }
  ]
}