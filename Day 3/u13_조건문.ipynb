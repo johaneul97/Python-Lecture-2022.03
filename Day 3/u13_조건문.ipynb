{
  "nbformat": 4,
  "nbformat_minor": 0,
  "metadata": {
    "colab": {
      "name": "u13_조건문.ipynb",
      "provenance": [],
      "collapsed_sections": []
    },
    "kernelspec": {
      "name": "python3",
      "display_name": "Python 3"
    },
    "language_info": {
      "name": "python"
    }
  },
  "cells": [
    {
      "cell_type": "markdown",
      "source": [
        "# Unit 13. if조건문"
      ],
      "metadata": {
        "id": "rTIUwOpyYZVy"
      }
    },
    {
      "cell_type": "markdown",
      "source": [
        "## 13.1 if 조건문 (참과 거짓으로 표현되는 식)"
      ],
      "metadata": {
        "id": "cijAMCQ3fq4j"
      }
    },
    {
      "cell_type": "code",
      "execution_count": 1,
      "metadata": {
        "id": "8RJqSyEyX_Ar"
      },
      "outputs": [],
      "source": [
        "import random"
      ]
    },
    {
      "cell_type": "code",
      "source": [
        "x = random.randint(9,11)        #9와 10사이에서 랜덤으로 지정\n",
        "if x == 10:                     #만약 x가 10과 같다면   : = if문뒤에는 콜론(,)을 넣어야합니다.\n",
        "    print('10입니다')           #x가 10일때만 출력"
      ],
      "metadata": {
        "colab": {
          "base_uri": "https://localhost:8080/"
        },
        "id": "oT4g8dB5f8Td",
        "outputId": "6e349462-caad-4758-9d1a-140fc0e5ff1f"
      },
      "execution_count": 9,
      "outputs": [
        {
          "output_type": "stream",
          "name": "stdout",
          "text": [
            "10입니다\n"
          ]
        }
      ]
    },
    {
      "cell_type": "code",
      "source": [
        "if x == 10:\n",
        "  pass      # Todo : x가 10일 때 처리가 필요함\n",
        "  print(x)"
      ],
      "metadata": {
        "colab": {
          "base_uri": "https://localhost:8080/"
        },
        "id": "NO34NBaygIOA",
        "outputId": "e09a5d46-ca2a-420b-8c15-a3860250c537"
      },
      "execution_count": 18,
      "outputs": [
        {
          "output_type": "stream",
          "name": "stdout",
          "text": [
            "10\n"
          ]
        }
      ]
    },
    {
      "cell_type": "code",
      "source": [
        "if x:         \n",
        "  print(x)"
      ],
      "metadata": {
        "colab": {
          "base_uri": "https://localhost:8080/"
        },
        "id": "7BSr6LUSgx0z",
        "outputId": "b4534150-76dd-460a-8bf4-f607a162b19a"
      },
      "execution_count": 12,
      "outputs": [
        {
          "output_type": "stream",
          "name": "stdout",
          "text": [
            "10\n"
          ]
        }
      ]
    },
    {
      "cell_type": "markdown",
      "source": [
        "## 13.2 if조건문과 들여쓰기"
      ],
      "metadata": {
        "id": "4t6XVioqihYg"
      }
    },
    {
      "cell_type": "code",
      "source": [
        "if x == 10:\n",
        "  print(x, '입니다.')\n",
        "  print('들여쓰기한 부분은 조건이 참일 경우 실행됩니다.')\n",
        "print('들여쓰기가 끝나면 조건에 관계없이 실행됩니다.')"
      ],
      "metadata": {
        "colab": {
          "base_uri": "https://localhost:8080/"
        },
        "id": "DlhwP2XWhTdx",
        "outputId": "fc776bd4-9875-495c-bbc6-a5fa345c44a4"
      },
      "execution_count": 19,
      "outputs": [
        {
          "output_type": "stream",
          "name": "stdout",
          "text": [
            "10 입니다.\n",
            "들여쓰기한 부분은 조건이 참일 경우 실행됩니다.\n",
            "들여쓰기가 끝나면 조건에 관계없이 실행됩니다.\n"
          ]
        }
      ]
    },
    {
      "cell_type": "markdown",
      "source": [
        "## 13.3 중첩(Nested) 조건문"
      ],
      "metadata": {
        "id": "dvhygD0Hiu1q"
      }
    },
    {
      "cell_type": "code",
      "source": [
        "x = random.randint(1,20)      #randint로 랜덤으로 숫자를 뽑을 범위를 설정후 x에 지정\n",
        "if x >=10:                    \n",
        "  print('10이상입니다.')\n",
        "  if x >=15:\n",
        "    print('15이상입니다.')\n",
        "print(x)"
      ],
      "metadata": {
        "colab": {
          "base_uri": "https://localhost:8080/"
        },
        "id": "SclEpJFjh0o7",
        "outputId": "44638e10-8950-4653-bef5-f88411689adb"
      },
      "execution_count": 26,
      "outputs": [
        {
          "output_type": "stream",
          "name": "stdout",
          "text": [
            "10이상입니다.\n",
            "15이상입니다.\n",
            "18\n"
          ]
        }
      ]
    },
    {
      "cell_type": "code",
      "source": [
        "# 10이상 정수, 3의 배수를 찾기\n",
        "x = random.randint(1,20)      #randint로 랜덤으로 숫자를 뽑을 범위를 설정후 x에 지정\n",
        "if x >=10:                    \n",
        "  print('10이상입니다.')\n",
        "  if x % 3 == 0:                #만약 3으로 나눴을때 0이 나올경우 = 3의 배수일경우\n",
        "    print('3의 배수입니다.')\n",
        "print(x)"
      ],
      "metadata": {
        "colab": {
          "base_uri": "https://localhost:8080/"
        },
        "id": "_D_cuzqji9JA",
        "outputId": "53f9622c-aa14-4bad-b6bb-f812306dc1f2"
      },
      "execution_count": 35,
      "outputs": [
        {
          "output_type": "stream",
          "name": "stdout",
          "text": [
            "10이상입니다.\n",
            "3의 배수입니다.\n",
            "18\n"
          ]
        }
      ]
    }
  ]
}