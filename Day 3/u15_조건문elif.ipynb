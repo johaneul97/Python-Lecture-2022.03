{
  "nbformat": 4,
  "nbformat_minor": 0,
  "metadata": {
    "colab": {
      "name": "u15_조건문elif.ipynb",
      "provenance": [],
      "collapsed_sections": []
    },
    "kernelspec": {
      "name": "python3",
      "display_name": "Python 3"
    },
    "language_info": {
      "name": "python"
    }
  },
  "cells": [
    {
      "cell_type": "markdown",
      "source": [
        "# Unit 15. 조건문elif"
      ],
      "metadata": {
        "id": "XflxathE630p"
      }
    },
    {
      "cell_type": "code",
      "source": [
        "import random"
      ],
      "metadata": {
        "id": "2Bm6kRme8sf_"
      },
      "execution_count": 3,
      "outputs": []
    },
    {
      "cell_type": "code",
      "execution_count": 5,
      "metadata": {
        "id": "PQ9UVAdV6pYC",
        "colab": {
          "base_uri": "https://localhost:8080/"
        },
        "outputId": "c5fac26b-ffa9-4038-b7cc-dde85c9d0e27"
      },
      "outputs": [
        {
          "output_type": "stream",
          "name": "stdout",
          "text": [
            "95 A\n"
          ]
        }
      ],
      "source": [
        "# 90점 이상 A, 80점 이상 B, 70점이상 C, 60점이상 D, 나머지 F\n",
        "score = random.randint(40,100)\n",
        "if score >= 90:\n",
        "  grade = 'A'\n",
        "elif score >= 80:\n",
        "  grade = 'B'\n",
        "elif score >= 70:\n",
        "  grade = 'C'\n",
        "elif score >= 60:\n",
        "  grade = 'D'\n",
        "else:\n",
        "  grade = 'F'\n",
        "print(score, grade)"
      ]
    },
    {
      "cell_type": "code",
      "source": [
        "score = random.randint(40,100)\n",
        "grade = 'A' if score >= 90 else \\\n",
        "            'B' if score >= 80 else\\\n",
        "                'C' if score >= 70 else\\\n",
        "                    'D' if score >= 60 else 'F'\n",
        "print(score, grade)"
      ],
      "metadata": {
        "colab": {
          "base_uri": "https://localhost:8080/"
        },
        "id": "x833Ex4X8pVK",
        "outputId": "0cd4f918-3c88-496e-8d1e-ebd79145e95c"
      },
      "execution_count": 8,
      "outputs": [
        {
          "output_type": "stream",
          "name": "stdout",
          "text": [
            "95 A\n"
          ]
        }
      ]
    },
    {
      "cell_type": "code",
      "source": [
        "score = random.randint(40,100)\n",
        "grade = 'A' if score >= 90 else 'B' if score >= 80 else 'C' if score >= 70 else 'D' if score >= 60 else 'F'\n",
        "print(score, grade)"
      ],
      "metadata": {
        "colab": {
          "base_uri": "https://localhost:8080/"
        },
        "id": "QBB4lOxw95wR",
        "outputId": "3136f270-5d7f-4a5d-b007-5a5bd83d7137"
      },
      "execution_count": 14,
      "outputs": [
        {
          "output_type": "stream",
          "name": "stdout",
          "text": [
            "57 F\n"
          ]
        }
      ]
    },
    {
      "cell_type": "markdown",
      "source": [
        "### 연습문제\n",
        "<pre>\n",
        "생일을 입력으로 받아 오늘 현재의 만 나이를 계산하시오."
      ],
      "metadata": {
        "id": "tVe6CoDN-fyh"
      }
    },
    {
      "cell_type": "code",
      "source": [
        "import datetime as dt\n",
        "today = dt.date.today()\n",
        "today.year, today.month, today.day"
      ],
      "metadata": {
        "colab": {
          "base_uri": "https://localhost:8080/"
        },
        "id": "W_XF_njO-YKC",
        "outputId": "113d642e-9376-42a3-cbfb-375e3ad5030d"
      },
      "execution_count": 17,
      "outputs": [
        {
          "output_type": "execute_result",
          "data": {
            "text/plain": [
              "(2022, 3, 25)"
            ]
          },
          "metadata": {},
          "execution_count": 17
        }
      ]
    },
    {
      "cell_type": "code",
      "source": [
        "birth_year, birth_month, birth_day = map(int, input('생년월일').split())"
      ],
      "metadata": {
        "colab": {
          "base_uri": "https://localhost:8080/"
        },
        "id": "GG_gu2Kl-2zw",
        "outputId": "69b1f884-b1d4-4e8f-c114-efc40ac23375"
      },
      "execution_count": 32,
      "outputs": [
        {
          "name": "stdout",
          "output_type": "stream",
          "text": [
            "생년월일1997 10 10\n"
          ]
        }
      ]
    },
    {
      "cell_type": "code",
      "source": [
        "if today.month < birth_month:                         # 생월이 아직 안지났으면\n",
        "  age = today.year - birth_year -1\n",
        "elif today.month > birth_month:                       # 생월이 지났으면\n",
        "  age = today.year - birth_year \n",
        "else:                                                 # 생월이 같으면\n",
        "  if today.day <= birth_day:                            # 생일이 아직 안왔으면\n",
        "    age = today.year - birth_year -1\n",
        "  else:                                                # 생일이 같거나 지났으면\n",
        "    age = today.year - birth_year -1\n",
        "print(birth_year, birth_month, birth_day, age)"
      ],
      "metadata": {
        "colab": {
          "base_uri": "https://localhost:8080/"
        },
        "id": "-dKKWrZz_bNe",
        "outputId": "72d3ae19-61de-454b-cb15-4d6deee6f21b"
      },
      "execution_count": 34,
      "outputs": [
        {
          "output_type": "stream",
          "name": "stdout",
          "text": [
            "1997 10 10 24\n"
          ]
        }
      ]
    }
  ]
}