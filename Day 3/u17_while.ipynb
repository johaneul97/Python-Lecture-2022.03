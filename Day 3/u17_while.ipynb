{
  "nbformat": 4,
  "nbformat_minor": 0,
  "metadata": {
    "colab": {
      "name": "u17_while.ipynb",
      "provenance": [],
      "collapsed_sections": []
    },
    "kernelspec": {
      "name": "python3",
      "display_name": "Python 3"
    },
    "language_info": {
      "name": "python"
    }
  },
  "cells": [
    {
      "cell_type": "markdown",
      "source": [
        "# Unit 17.while반복문"
      ],
      "metadata": {
        "id": "Z_8UeL-Ubaoj"
      }
    },
    {
      "cell_type": "markdown",
      "source": [
        "## 17.1 while 반복문"
      ],
      "metadata": {
        "id": "aBGwgXQvexAI"
      }
    },
    {
      "cell_type": "code",
      "source": [
        "i = 0                          # 초기식\n",
        "while i < 5:                   # while 조건식\n",
        "     print('Hello, world!',i)    # 반복할 코드\n",
        "     i += 1                    # 조건을 변화시킬 변화식"
      ],
      "metadata": {
        "colab": {
          "base_uri": "https://localhost:8080/"
        },
        "id": "vWhmkwl1bgWM",
        "outputId": "7949fd57-2863-4f71-920a-f87a8e7563e8"
      },
      "execution_count": 4,
      "outputs": [
        {
          "output_type": "stream",
          "name": "stdout",
          "text": [
            "Hello, world! 0\n",
            "Hello, world! 1\n",
            "Hello, world! 2\n",
            "Hello, world! 3\n",
            "Hello, world! 4\n"
          ]
        }
      ]
    },
    {
      "cell_type": "markdown",
      "source": [
        "## 17.2 반복횟수가 정해져 있지 않은 경우"
      ],
      "metadata": {
        "id": "f6nnkZC-fk2D"
      }
    },
    {
      "cell_type": "code",
      "source": [
        "import random"
      ],
      "metadata": {
        "id": "1XaEALq7ewnK"
      },
      "execution_count": 6,
      "outputs": []
    },
    {
      "cell_type": "code",
      "source": [
        "dice = random.randint(1, 6)\n",
        "while dice != 3:\n",
        "  print(dice, end=' ')\n",
        "  dice = random.randint(1, 6)"
      ],
      "metadata": {
        "colab": {
          "base_uri": "https://localhost:8080/"
        },
        "id": "irKtl_94fjyV",
        "outputId": "3dd89ac8-097a-4a18-cdec-7a0b76caf620"
      },
      "execution_count": 15,
      "outputs": [
        {
          "output_type": "stream",
          "name": "stdout",
          "text": [
            "6 5 1 6 5 "
          ]
        }
      ]
    },
    {
      "cell_type": "code",
      "source": [
        "dice = 0\n",
        "while dice != 3:\n",
        "  dice = random.randint(1, 6)\n",
        "  print(dice, end=' ')"
      ],
      "metadata": {
        "colab": {
          "base_uri": "https://localhost:8080/"
        },
        "id": "ATsmryPyfxWJ",
        "outputId": "9112dd72-b900-4aa2-a067-b98252656b12"
      },
      "execution_count": 16,
      "outputs": [
        {
          "output_type": "stream",
          "name": "stdout",
          "text": [
            "4 4 5 5 5 5 3 "
          ]
        }
      ]
    },
    {
      "cell_type": "code",
      "source": [
        "while True:\n",
        "  dice = random.randint(1, 6)\n",
        "  print(dice, end=' ')\n",
        "  if dice ==3:\n",
        "      break"
      ],
      "metadata": {
        "colab": {
          "base_uri": "https://localhost:8080/"
        },
        "id": "1JiaTOzYgTrD",
        "outputId": "cfcacf88-6455-43f7-dc68-4f1c3ebfdb3e"
      },
      "execution_count": 24,
      "outputs": [
        {
          "output_type": "stream",
          "name": "stdout",
          "text": [
            "1 6 2 4 3 "
          ]
        }
      ]
    }
  ]
}