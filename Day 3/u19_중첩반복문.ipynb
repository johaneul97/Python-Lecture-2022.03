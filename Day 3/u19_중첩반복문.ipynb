{
  "nbformat": 4,
  "nbformat_minor": 0,
  "metadata": {
    "colab": {
      "name": "u19_중첩반복문.ipynb",
      "provenance": [],
      "collapsed_sections": []
    },
    "kernelspec": {
      "name": "python3",
      "display_name": "Python 3"
    },
    "language_info": {
      "name": "python"
    }
  },
  "cells": [
    {
      "cell_type": "markdown",
      "source": [
        "# Unit 19. 중첩(Nested) 반복문"
      ],
      "metadata": {
        "id": "zv29t3VQk-d-"
      }
    },
    {
      "cell_type": "markdown",
      "source": [
        "## 19.1 중첩 Loop"
      ],
      "metadata": {
        "id": "bU5SyVPolJ7f"
      }
    },
    {
      "cell_type": "code",
      "source": [
        "for i in range(1,6):\n",
        "  for k in range(i):\n",
        "    print('*', end='')\n",
        "  print()                 #줄바꿈이 일어남"
      ],
      "metadata": {
        "colab": {
          "base_uri": "https://localhost:8080/"
        },
        "id": "qE2Pijc6lEE-",
        "outputId": "e0575037-c61e-4887-82e5-d62c548504e0"
      },
      "execution_count": 4,
      "outputs": [
        {
          "output_type": "stream",
          "name": "stdout",
          "text": [
            "*\n",
            "**\n",
            "***\n",
            "****\n",
            "*****\n"
          ]
        }
      ]
    },
    {
      "cell_type": "code",
      "source": [
        "for i in range(1,6):\n",
        "  print('*' * i)    #* * i로 i가 6이 될때 까지 반복됩니다."
      ],
      "metadata": {
        "colab": {
          "base_uri": "https://localhost:8080/"
        },
        "id": "o8lqFrijmImp",
        "outputId": "a370027c-9809-4f33-cbd4-81758c72a2b1"
      },
      "execution_count": 3,
      "outputs": [
        {
          "output_type": "stream",
          "name": "stdout",
          "text": [
            "*\n",
            "**\n",
            "***\n",
            "****\n",
            "*****\n"
          ]
        }
      ]
    },
    {
      "cell_type": "markdown",
      "source": [
        "## 19.2 사각형으로 별 출력"
      ],
      "metadata": {
        "id": "w7NatIX_nyvd"
      }
    },
    {
      "cell_type": "code",
      "source": [
        "for i in range(5):            # 5번 반복. 바깥쪽 루프는 세로 방향\n",
        "    for j in range(5):        # 5번 반복. 안쪽 루프는 가로 방향\n",
        "        print('*', end='')    # 별 출력. end에 ''를 지정하여 줄바꿈을 하지 않음\n",
        "    print()                   # 가로 방향으로 별을 다 그린 뒤 다음 줄로 넘어감\n",
        "                              # (print는 출력 후 기본적으로 다음 줄로 넘어감)"
      ],
      "metadata": {
        "colab": {
          "base_uri": "https://localhost:8080/"
        },
        "id": "LFviMApUoaLR",
        "outputId": "76fe18a6-006a-4fb0-f157-aa91d754958e"
      },
      "execution_count": 6,
      "outputs": [
        {
          "output_type": "stream",
          "name": "stdout",
          "text": [
            "*****\n",
            "*****\n",
            "*****\n",
            "*****\n",
            "*****\n"
          ]
        }
      ]
    },
    {
      "cell_type": "code",
      "source": [
        "width, height = 5, 3\n",
        "for i in range(height):\n",
        "    for k in range(width):\n",
        "      print('*', end='')\n",
        "    print()"
      ],
      "metadata": {
        "colab": {
          "base_uri": "https://localhost:8080/"
        },
        "id": "_St0y-pfmghG",
        "outputId": "54596b53-b7a3-4948-b350-2f7b9bc92411"
      },
      "execution_count": 7,
      "outputs": [
        {
          "output_type": "stream",
          "name": "stdout",
          "text": [
            "*****\n",
            "*****\n",
            "*****\n"
          ]
        }
      ]
    },
    {
      "cell_type": "markdown",
      "source": [
        "## 19.3 계단식 별모양"
      ],
      "metadata": {
        "id": "2uuGeizaqugl"
      }
    },
    {
      "cell_type": "code",
      "source": [
        "for i in range(5):            #행 갯수\n",
        "    for k in range(4-i):      #space제작\n",
        "      print(' ', end='')      #\n",
        "    for k in range(i+1):\n",
        "      print('*', end='')\n",
        "    print()"
      ],
      "metadata": {
        "colab": {
          "base_uri": "https://localhost:8080/"
        },
        "id": "qiRH5P8ZrJU3",
        "outputId": "dea5eb02-b583-4a7e-f856-1788926c387e"
      },
      "execution_count": 11,
      "outputs": [
        {
          "output_type": "stream",
          "name": "stdout",
          "text": [
            "    *\n",
            "   **\n",
            "  ***\n",
            " ****\n",
            "*****\n"
          ]
        }
      ]
    },
    {
      "cell_type": "code",
      "source": [
        "#별그리기\n",
        "#가운데 별의 갯수가 7인경우\n",
        "# N= 7 인경우\n",
        "n= 7 //2 +1\n",
        "for i in range(n):\n",
        "  for k in range(n - 1 - i):\n",
        "    print(' ', end='')\n",
        "  for k in range(2*i+1):\n",
        "    print('*', end='')\n",
        "  print()\n",
        "for i in range(n-2, -1, -1):\n",
        "  for k in range(n - 1 - i):\n",
        "    print(' ', end='')\n",
        "  for k in range(2*i+1):\n",
        "    print('*', end='')\n",
        "  print()"
      ],
      "metadata": {
        "colab": {
          "base_uri": "https://localhost:8080/"
        },
        "id": "DJMlMHW2s5T2",
        "outputId": "58bcc5ff-8a99-4adf-b2f7-665b8c4cd01d"
      },
      "execution_count": 13,
      "outputs": [
        {
          "output_type": "stream",
          "name": "stdout",
          "text": [
            "   *\n",
            "  ***\n",
            " *****\n",
            "*******\n",
            " *****\n",
            "  ***\n",
            "   *\n"
          ]
        }
      ]
    },
    {
      "cell_type": "code",
      "source": [
        "# 입력값에 따른 중간별의 갯수 지정해서 별모양 만들기\n",
        "\n",
        "N= int(input())\n",
        "n= N //2 +1\n",
        "for i in range(n):\n",
        "  for k in range(n - 1 - i):\n",
        "    print(' ', end='')\n",
        "  for k in range(2*i+1):\n",
        "    print('*', end='')\n",
        "  print()\n",
        "for i in range(n-2, -1, -1):\n",
        "  for k in range(n - 1 - i):\n",
        "    print(' ', end='')\n",
        "  for k in range(2*i+1):\n",
        "    print('*', end='')\n",
        "  print()"
      ],
      "metadata": {
        "colab": {
          "base_uri": "https://localhost:8080/"
        },
        "id": "JN8v2hwvurfl",
        "outputId": "70014dcc-ab65-47c9-c636-8598176467ec"
      },
      "execution_count": 16,
      "outputs": [
        {
          "output_type": "stream",
          "name": "stdout",
          "text": [
            "11\n",
            "     *\n",
            "    ***\n",
            "   *****\n",
            "  *******\n",
            " *********\n",
            "***********\n",
            " *********\n",
            "  *******\n",
            "   *****\n",
            "    ***\n",
            "     *\n"
          ]
        }
      ]
    },
    {
      "cell_type": "code",
      "source": [
        ""
      ],
      "metadata": {
        "id": "LsAQTGskvp48"
      },
      "execution_count": null,
      "outputs": []
    }
  ]
}