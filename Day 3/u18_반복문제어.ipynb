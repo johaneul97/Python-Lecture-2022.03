{
  "cells": [
    {
      "cell_type": "markdown",
      "metadata": {
        "id": "6fqYzcwPhZJM"
      },
      "source": [
        "# Unit 18. 반복문제어"
      ]
    },
    {
      "cell_type": "markdown",
      "metadata": {
        "id": "2z5qeZVQhc6v"
      },
      "source": [
        "## 18.1 break"
      ]
    },
    {
      "cell_type": "code",
      "execution_count": 5,
      "metadata": {
        "colab": {
          "base_uri": "https://localhost:8080/"
        },
        "id": "w2taUU4nhwag",
        "outputId": "186ecf04-7b3b-432d-de70-8752ce9742c8"
      },
      "outputs": [
        {
          "name": "stdout",
          "output_type": "stream",
          "text": [
            "(5,2) (5,5) "
          ]
        }
      ],
      "source": [
        "# 주사위를 두번 굴려서 눈의 합이 10 이상이면 탈출\n",
        "import random\n",
        "\n",
        "while True:\n",
        "  dice1 = random.randint(1,6)\n",
        "  dice2 = random.randint(1,6)\n",
        "  print(f'({dice1},{dice2})', end=' ')\n",
        "  if dice1 + dice2 >= 8:\n",
        "    break"
      ]
    },
    {
      "cell_type": "code",
      "execution_count": 8,
      "metadata": {
        "colab": {
          "base_uri": "https://localhost:8080/"
        },
        "id": "_m3KYNn9iJz5",
        "outputId": "ce3b6428-f7a7-4433-d1df-4954431a4b52"
      },
      "outputs": [
        {
          "name": "stdout",
          "output_type": "stream",
          "text": [
            "25 325\n"
          ]
        }
      ],
      "source": [
        "# for - break\n",
        "# 1에서 몇까지 더하면 누적합이 300을 초과하는가?\n",
        "cum_sum = 0\n",
        "for i in range(100):\n",
        "  cum_sum += i\n",
        "  if cum_sum > 300:\n",
        "    print(i, cum_sum)\n",
        "    break"
      ]
    },
    {
      "cell_type": "code",
      "execution_count": 10,
      "metadata": {
        "id": "ftLCYM3bi-rP"
      },
      "outputs": [],
      "source": [
        "for i in range(100):\n",
        "  for k in range(i+1):      #break는 Loop 1개만 탈출\n",
        "    break"
      ]
    },
    {
      "cell_type": "markdown",
      "metadata": {
        "id": "9pWLW8TNjUNc"
      },
      "source": [
        "## 18.2 continue"
      ]
    },
    {
      "cell_type": "code",
      "execution_count": 12,
      "metadata": {
        "colab": {
          "base_uri": "https://localhost:8080/"
        },
        "id": "dhHZzgBUjHZF",
        "outputId": "0148714c-d01d-4a24-f319-3990f5abacae"
      },
      "outputs": [
        {
          "name": "stdout",
          "output_type": "stream",
          "text": [
            "1 3 5 7 9 "
          ]
        }
      ],
      "source": [
        "# 홀수만 출력\n",
        "for i in range(10):\n",
        "  if i % 2 ==0:\n",
        "    continue\n",
        "  print(i, end=' ')"
      ]
    },
    {
      "cell_type": "code",
      "execution_count": 13,
      "metadata": {
        "colab": {
          "base_uri": "https://localhost:8080/"
        },
        "id": "vP_mmFXejzuz",
        "outputId": "0952d672-27c3-4a5d-efe4-8371f07e1eab"
      },
      "outputs": [
        {
          "name": "stdout",
          "output_type": "stream",
          "text": [
            "1 3 5 7 9 "
          ]
        }
      ],
      "source": [
        "i = 0\n",
        "while i < 10:\n",
        "  i += 1\n",
        "  if i % 2 == 0:\n",
        "    continue\n",
        "  print(i, end=' ')"
      ]
    }
  ],
  "metadata": {
    "colab": {
      "collapsed_sections": [],
      "name": "u18_반복문제어.ipynb",
      "provenance": []
    },
    "kernelspec": {
      "display_name": "Python 3",
      "name": "python3"
    },
    "language_info": {
      "name": "python"
    }
  },
  "nbformat": 4,
  "nbformat_minor": 0
}
