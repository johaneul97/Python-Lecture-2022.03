{
  "nbformat": 4,
  "nbformat_minor": 0,
  "metadata": {
    "colab": {
      "name": "u14_조건문else.ipynb",
      "provenance": [],
      "collapsed_sections": []
    },
    "kernelspec": {
      "name": "python3",
      "display_name": "Python 3"
    },
    "language_info": {
      "name": "python"
    }
  },
  "cells": [
    {
      "cell_type": "markdown",
      "source": [
        "# Unit 14. 조건문 if-else"
      ],
      "metadata": {
        "id": "yz_YkFSckzuf"
      }
    },
    {
      "cell_type": "markdown",
      "source": [
        "## 14.1 else"
      ],
      "metadata": {
        "id": "i0JmbfoOlPwA"
      }
    },
    {
      "cell_type": "code",
      "execution_count": 2,
      "metadata": {
        "id": "vM4XGaSBkwWr"
      },
      "outputs": [],
      "source": [
        "import random"
      ]
    },
    {
      "cell_type": "code",
      "source": [
        "x = random.randint(1, 6)\n",
        "if x >= 4:                \n",
        "  print('큰 수')          #참일경우\n",
        "else:                     #조건에 맞지않을경우\n",
        "   print('작은 수')       \n",
        "print(x)"
      ],
      "metadata": {
        "colab": {
          "base_uri": "https://localhost:8080/"
        },
        "id": "h1ywqa9TlOOu",
        "outputId": "f9c68094-7924-4a6a-a7f2-9ad10931e1ae"
      },
      "execution_count": 5,
      "outputs": [
        {
          "output_type": "stream",
          "name": "stdout",
          "text": [
            "큰 수\n",
            "4\n"
          ]
        }
      ]
    },
    {
      "cell_type": "code",
      "source": [
        "x = random.randint(1, 6)\n",
        "if x % 2 == 0:                # 2로 나눌경우 0과같냐 = 2의배수\n",
        "  print('짝 수')          #참일경우\n",
        "else:                     #조건에 맞지않을경우\n",
        "   print('홀 수')       \n",
        "print(x)"
      ],
      "metadata": {
        "colab": {
          "base_uri": "https://localhost:8080/"
        },
        "id": "fDT066s3lsSv",
        "outputId": "1e64df2a-4a4b-4f55-fae8-4771a018cd3e"
      },
      "execution_count": 8,
      "outputs": [
        {
          "output_type": "stream",
          "name": "stdout",
          "text": [
            "홀 수\n",
            "1\n"
          ]
        }
      ]
    },
    {
      "cell_type": "code",
      "source": [
        "x = random.randint(1, 6)\n",
        "if x % 2 == 0:                \n",
        "  result = 'even number'         \n",
        "else:                     \n",
        "   result = 'odd number'       \n",
        "print(x,result)"
      ],
      "metadata": {
        "colab": {
          "base_uri": "https://localhost:8080/"
        },
        "id": "CUaGXeEamA2l",
        "outputId": "16dd27ba-28ec-42a1-b0eb-1f02d8cefe0c"
      },
      "execution_count": 16,
      "outputs": [
        {
          "output_type": "stream",
          "name": "stdout",
          "text": [
            "1 odd number\n"
          ]
        }
      ]
    },
    {
      "cell_type": "code",
      "source": [
        "# java, java script에서는 result = x % 2 == 0 ? \"even\" : \"odd\" ;\n",
        "x = random.randint(1, 6)\n",
        "result = 'even' if x % 2 == 0 else 'odd'    #위의 식을 간략화시킨것 외워둘필요\n",
        "print(x,result)"
      ],
      "metadata": {
        "colab": {
          "base_uri": "https://localhost:8080/"
        },
        "id": "lfl1T8oFma71",
        "outputId": "ccb26eb4-1a75-4e72-a56c-9d2aee86001b"
      },
      "execution_count": 21,
      "outputs": [
        {
          "output_type": "stream",
          "name": "stdout",
          "text": [
            "6 even\n"
          ]
        }
      ]
    },
    {
      "cell_type": "markdown",
      "source": [
        "## else와 들여쓰기"
      ],
      "metadata": {
        "id": "QUYUFVXtn6wP"
      }
    },
    {
      "cell_type": "code",
      "source": [
        "if x == 10:    # x가 10이라 조건식이 참\n",
        "    print('10입니다.')    # 출력\n",
        "else:\n",
        "     print('x에 들어있는 숫자는')\n",
        "     print('10이 아닙니다.')"
      ],
      "metadata": {
        "colab": {
          "base_uri": "https://localhost:8080/"
        },
        "id": "25Pl--Xkn9R-",
        "outputId": "0d789b7c-756b-4655-fed7-899bbf7a5e5b"
      },
      "execution_count": 22,
      "outputs": [
        {
          "output_type": "stream",
          "name": "stdout",
          "text": [
            "x에 들어있는 숫자는\n",
            "10이 아닙니다.\n"
          ]
        }
      ]
    },
    {
      "cell_type": "markdown",
      "source": [
        "## 14.3 동작방식"
      ],
      "metadata": {
        "id": "FBOlqyjTvF4U"
      }
    },
    {
      "cell_type": "code",
      "source": [
        "if x:\n",
        "  print(x)\n",
        "else:\n",
        "  print('none')"
      ],
      "metadata": {
        "colab": {
          "base_uri": "https://localhost:8080/"
        },
        "id": "9kr7yMdHvHTV",
        "outputId": "f6746bbd-fd5a-4cf3-d5d3-2568a93f8529"
      },
      "execution_count": 23,
      "outputs": [
        {
          "output_type": "stream",
          "name": "stdout",
          "text": [
            "6\n"
          ]
        }
      ]
    },
    {
      "cell_type": "code",
      "source": [
        "x = None\n",
        "if x:\n",
        "  print(x)\n",
        "else:\n",
        "  print('0, 0.0, \"\", false, none 입니다.')"
      ],
      "metadata": {
        "colab": {
          "base_uri": "https://localhost:8080/"
        },
        "id": "J-cQ2EcNvOmu",
        "outputId": "450b592b-dcb8-492a-a6ff-88a2a5f6f636"
      },
      "execution_count": 26,
      "outputs": [
        {
          "output_type": "stream",
          "name": "stdout",
          "text": [
            "0, 0.0, \"\", false, none 입니다.\n"
          ]
        }
      ]
    },
    {
      "cell_type": "markdown",
      "source": [
        "## 14.4 여래개의 조건식"
      ],
      "metadata": {
        "id": "RI_ZGJcwwC5R"
      }
    },
    {
      "cell_type": "code",
      "source": [
        "# 3과 5의 공배수면 FizzBuzz를 출력\n",
        "# 위의 경우가 아니면 숫자값을 출력\n",
        "# 1 2 Fizz 4 Buzz Fizz 7 8 Buzz 11 Fizz 13 14 FizzBuzz\n",
        "x = random.randint(1,100)\n",
        "if x % 3 == 0 and x % 5 == 0:\n",
        "  print('FizzBuzz')\n",
        "else:\n",
        "  print('x')"
      ],
      "metadata": {
        "colab": {
          "base_uri": "https://localhost:8080/"
        },
        "id": "BctiIlMFvV1n",
        "outputId": "0ab93b13-2ad9-4240-e4a1-4d0de556c36e"
      },
      "execution_count": 43,
      "outputs": [
        {
          "output_type": "stream",
          "name": "stdout",
          "text": [
            "FizzBuzz\n"
          ]
        }
      ]
    },
    {
      "cell_type": "code",
      "source": [
        "x = 14\n",
        "if x >= 10 and x <= 20:\n",
        "  print('10이상이고 20이하')\n",
        "else:\n",
        "  print(x)"
      ],
      "metadata": {
        "colab": {
          "base_uri": "https://localhost:8080/"
        },
        "id": "1fUkAnl1wZJn",
        "outputId": "b8118ec5-1033-46dc-c27f-f941b93902b6"
      },
      "execution_count": 45,
      "outputs": [
        {
          "output_type": "stream",
          "name": "stdout",
          "text": [
            "10이상이고 20이하\n"
          ]
        }
      ]
    },
    {
      "cell_type": "code",
      "source": [
        "if 10<= x <= 20:\n",
        "  print('10이상이고 20이하')\n",
        "else:\n",
        "  print(x)"
      ],
      "metadata": {
        "colab": {
          "base_uri": "https://localhost:8080/"
        },
        "id": "JxUMc6A8x3Vn",
        "outputId": "45f53cf5-fc6b-4dcc-8a97-7b6b8b6a8500"
      },
      "execution_count": 46,
      "outputs": [
        {
          "output_type": "stream",
          "name": "stdout",
          "text": [
            "10이상이고 20이하\n"
          ]
        }
      ]
    },
    {
      "cell_type": "markdown",
      "source": [
        "### 연습문제\n",
        "<pre>\n",
        "4로 나누어지면 윤년\n",
        "100으로 나누어지면 평년\n",
        "400으로 나누어지면 윤년\n",
        "그외 평년"
      ],
      "metadata": {
        "id": "t8J1YbPYyJ27"
      }
    },
    {
      "cell_type": "code",
      "source": [
        "x = 2000\n",
        "if x % 4 ==0: \n",
        "  if x % 100 ==0:\n",
        "    if x % 400 == 0:\n",
        "      print(x, '윤년')\n",
        "    else:\n",
        "      print(x, '평년')\n",
        "  else:\n",
        "    print(x, '윤년')\n",
        "else:\n",
        "  print(x, '평년')"
      ],
      "metadata": {
        "colab": {
          "base_uri": "https://localhost:8080/"
        },
        "id": "cTiDVPHcyHjg",
        "outputId": "4e14e363-a3fc-43d2-a206-fafa75d49a09"
      },
      "execution_count": 74,
      "outputs": [
        {
          "output_type": "stream",
          "name": "stdout",
          "text": [
            "2000 윤년\n"
          ]
        }
      ]
    },
    {
      "cell_type": "code",
      "source": [
        "# Code Refactoring\n",
        "x = 2004\n",
        "if x % 4 ==0 or x % 400 == 0 and x % 100 !=0:\n",
        "  print(x,'윤년')\n",
        "else:\n",
        "  print(x, '평년')"
      ],
      "metadata": {
        "colab": {
          "base_uri": "https://localhost:8080/"
        },
        "id": "O4cCc_bBzNC3",
        "outputId": "089726f5-bb0f-40ee-b5c2-ffb2caf6d2fb"
      },
      "execution_count": 88,
      "outputs": [
        {
          "output_type": "stream",
          "name": "stdout",
          "text": [
            "2004 윤년\n"
          ]
        }
      ]
    },
    {
      "cell_type": "code",
      "source": [
        "# Not (A and B)  ==> not A not B\n",
        "x = 2004\n",
        "if x % 4 ==0 and (x % 100 != 0 or x % 400 ==0):\n",
        "  print(x,'윤년')\n",
        "else:\n",
        "  print(x, '평년')"
      ],
      "metadata": {
        "colab": {
          "base_uri": "https://localhost:8080/"
        },
        "id": "MCiE5pnr1vmJ",
        "outputId": "60d98ff0-4950-41b5-fda7-4e24906894b9"
      },
      "execution_count": 87,
      "outputs": [
        {
          "output_type": "stream",
          "name": "stdout",
          "text": [
            "2004 윤년\n"
          ]
        }
      ]
    }
  ]
}