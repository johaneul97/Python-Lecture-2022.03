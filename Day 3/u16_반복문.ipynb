{
  "nbformat": 4,
  "nbformat_minor": 0,
  "metadata": {
    "colab": {
      "name": "u16_반복문.ipynb",
      "provenance": [],
      "collapsed_sections": []
    },
    "kernelspec": {
      "name": "python3",
      "display_name": "Python 3"
    },
    "language_info": {
      "name": "python"
    }
  },
  "cells": [
    {
      "cell_type": "markdown",
      "source": [
        "# Unit 16. 반복문"
      ],
      "metadata": {
        "id": "jj-PHxfHHTyU"
      }
    },
    {
      "cell_type": "markdown",
      "source": [
        "## 16.1 for,range"
      ],
      "metadata": {
        "id": "d7o7yQSnHvAn"
      }
    },
    {
      "cell_type": "code",
      "source": [
        "for i in range(3):        \n",
        "  print('Hello World!')"
      ],
      "metadata": {
        "colab": {
          "base_uri": "https://localhost:8080/"
        },
        "id": "IeO4V8-JHpxa",
        "outputId": "5211767c-65b1-4d86-8e1e-599d171b7576"
      },
      "execution_count": 2,
      "outputs": [
        {
          "output_type": "stream",
          "name": "stdout",
          "text": [
            "Hello World!\n",
            "Hello World!\n",
            "Hello World!\n"
          ]
        }
      ]
    },
    {
      "cell_type": "code",
      "source": [
        "for i in range(3):\n",
        "  print('안녕하세요.', i)"
      ],
      "metadata": {
        "colab": {
          "base_uri": "https://localhost:8080/"
        },
        "id": "JGWM0S4VHtxr",
        "outputId": "9c47b7c7-f5fb-49bc-96e4-ed733e3a1a81"
      },
      "execution_count": 3,
      "outputs": [
        {
          "output_type": "stream",
          "name": "stdout",
          "text": [
            "안녕하세요. 0\n",
            "안녕하세요. 1\n",
            "안녕하세요. 2\n"
          ]
        }
      ]
    },
    {
      "cell_type": "markdown",
      "source": [
        "## 16.2 for, range 응용"
      ],
      "metadata": {
        "id": "BpUvD0rhLwqa"
      }
    },
    {
      "cell_type": "code",
      "source": [
        "for i in range(5, 12):\n",
        "  print(i, end=' ')"
      ],
      "metadata": {
        "colab": {
          "base_uri": "https://localhost:8080/"
        },
        "id": "YVm-JAvLIUMb",
        "outputId": "a89c85fe-3bd1-43cd-9803-ba2fa2bef7d9"
      },
      "execution_count": 5,
      "outputs": [
        {
          "output_type": "stream",
          "name": "stdout",
          "text": [
            "5 6 7 8 9 10 11 "
          ]
        }
      ]
    },
    {
      "cell_type": "code",
      "source": [
        "for i in range(10, 0,-1):\n",
        "  print(i, end=' ')"
      ],
      "metadata": {
        "colab": {
          "base_uri": "https://localhost:8080/"
        },
        "id": "9XDJiKwYKdY_",
        "outputId": "6536a914-3a62-46f8-93e4-32ca9498020a"
      },
      "execution_count": 11,
      "outputs": [
        {
          "output_type": "stream",
          "name": "stdout",
          "text": [
            "10 9 8 7 6 5 4 3 2 1 "
          ]
        }
      ]
    },
    {
      "cell_type": "code",
      "source": [
        "# Loop안에서 index 값이 필요하지 않으면 i 대신 _를 쓸 수 있다.\n",
        "for  _ in range(3):         # _ = 안쓰는것\n",
        "  print('Hello')"
      ],
      "metadata": {
        "colab": {
          "base_uri": "https://localhost:8080/"
        },
        "id": "hJFGFqe3KnIe",
        "outputId": "48140e9f-5288-463e-f3ab-a74aa6f102ad"
      },
      "execution_count": 13,
      "outputs": [
        {
          "output_type": "stream",
          "name": "stdout",
          "text": [
            "Hello\n",
            "Hello\n",
            "Hello\n"
          ]
        }
      ]
    },
    {
      "cell_type": "code",
      "source": [
        "# for-loop에서는 loop 안에서 index값을 변경시키지 말 것\n",
        "for i in range(10):\n",
        " print(i, end=' ')\n",
        " i += 5                   #금기사항"
      ],
      "metadata": {
        "colab": {
          "base_uri": "https://localhost:8080/"
        },
        "id": "JXbF9QlkLCGg",
        "outputId": "b0280b16-897e-4ca2-e027-35ac84a0054c"
      },
      "execution_count": 18,
      "outputs": [
        {
          "output_type": "stream",
          "name": "stdout",
          "text": [
            "0 1 2 3 4 5 6 7 8 9 "
          ]
        }
      ]
    },
    {
      "cell_type": "code",
      "source": [
        "count = int(input())\n",
        "for i in range(count):      #count가 0이면 반복하지 않는다\n",
        "  print(i, end=' ')"
      ],
      "metadata": {
        "colab": {
          "base_uri": "https://localhost:8080/"
        },
        "id": "rrXpMoKRMCCb",
        "outputId": "d9bdf219-00c6-46f2-ad12-989023503a09"
      },
      "execution_count": 21,
      "outputs": [
        {
          "output_type": "stream",
          "name": "stdout",
          "text": [
            "3\n",
            "0 1 2 "
          ]
        }
      ]
    },
    {
      "cell_type": "markdown",
      "source": [
        "## 16.3 시퀀스 객체로 반복"
      ],
      "metadata": {
        "id": "D14WIqjiNYoa"
      }
    },
    {
      "cell_type": "code",
      "source": [
        "a = [10,20,30,40,50,]\n",
        "for i in a:\n",
        "  print(i, end=' ')"
      ],
      "metadata": {
        "colab": {
          "base_uri": "https://localhost:8080/"
        },
        "id": "nh2zaimGNFGw",
        "outputId": "6afc3001-f0da-43d9-e508-6f2c34bd4232"
      },
      "execution_count": 22,
      "outputs": [
        {
          "output_type": "stream",
          "name": "stdout",
          "text": [
            "10 20 30 40 50 "
          ]
        }
      ]
    },
    {
      "cell_type": "code",
      "source": [
        "fruits = ('사과', '배', '감', '귤')\n",
        "for fruits in fruits:\n",
        "  print(fruits)"
      ],
      "metadata": {
        "colab": {
          "base_uri": "https://localhost:8080/"
        },
        "id": "lINQh4kdNjOF",
        "outputId": "7a67608d-898e-44e7-cf59-9ce08412fb77"
      },
      "execution_count": 24,
      "outputs": [
        {
          "output_type": "stream",
          "name": "stdout",
          "text": [
            "사과\n",
            "배\n",
            "감\n",
            "귤\n"
          ]
        }
      ]
    },
    {
      "cell_type": "code",
      "source": [
        "for letter in 'python':\n",
        "  print(letter, end=' ')"
      ],
      "metadata": {
        "colab": {
          "base_uri": "https://localhost:8080/"
        },
        "id": "QmMb8vxYN9KF",
        "outputId": "11e8e3a9-3f8c-468d-c94d-940b6d029f5b"
      },
      "execution_count": 25,
      "outputs": [
        {
          "output_type": "stream",
          "name": "stdout",
          "text": [
            "p y t h o n "
          ]
        }
      ]
    },
    {
      "cell_type": "code",
      "source": [
        "for letter in reversed('python'):     #시퀀스객체를 뒤집어서 보낼때 reversed(객체)\n",
        "  print(letter, end=' ')"
      ],
      "metadata": {
        "colab": {
          "base_uri": "https://localhost:8080/"
        },
        "id": "z9rYou-vOPRb",
        "outputId": "30909031-7ea8-48a1-8ba8-062050a191ee"
      },
      "execution_count": 27,
      "outputs": [
        {
          "output_type": "stream",
          "name": "stdout",
          "text": [
            "n o h t y p "
          ]
        }
      ]
    },
    {
      "cell_type": "code",
      "source": [
        "for letter in 'python'[::-1]:     # 위에것 보단 옆의것이 중요\n",
        "  print(letter, end=' ')"
      ],
      "metadata": {
        "colab": {
          "base_uri": "https://localhost:8080/"
        },
        "id": "66o3R5MUOdYr",
        "outputId": "741c18ef-c7b6-4993-cfed-2c9c8569bb77"
      },
      "execution_count": 29,
      "outputs": [
        {
          "output_type": "stream",
          "name": "stdout",
          "text": [
            "n o h t y p "
          ]
        }
      ]
    },
    {
      "cell_type": "markdown",
      "source": [
        "- 반복문 응용"
      ],
      "metadata": {
        "id": "n9Kxs3GiOwXF"
      }
    },
    {
      "cell_type": "code",
      "source": [
        "# 1에서 100까지 합\n",
        "sum100 = 0\n",
        "for i in range(1,101):\n",
        "  sum100 += i\n",
        "print(sum100)"
      ],
      "metadata": {
        "colab": {
          "base_uri": "https://localhost:8080/"
        },
        "id": "qmKA4Wr9Op34",
        "outputId": "cd952428-97ab-47c7-b00d-7194160262fc"
      },
      "execution_count": 30,
      "outputs": [
        {
          "output_type": "stream",
          "name": "stdout",
          "text": [
            "5050\n"
          ]
        }
      ]
    },
    {
      "cell_type": "code",
      "source": [
        "# 1에서 10까지 sqrt(스퀘어 루트) 값을 갖는 리스트를 만드세요.\n",
        "sqrt = []\n",
        "for i in range(1,11):\n",
        "  sqrt.append(i ** 0.5)\n",
        "print(sqrt)"
      ],
      "metadata": {
        "colab": {
          "base_uri": "https://localhost:8080/"
        },
        "id": "YQ3QlG_wO_IB",
        "outputId": "bf0e5ad9-c89b-4b23-ed2c-a2c79856da36"
      },
      "execution_count": 32,
      "outputs": [
        {
          "output_type": "stream",
          "name": "stdout",
          "text": [
            "[1.0, 1.4142135623730951, 1.7320508075688772, 2.0, 2.23606797749979, 2.449489742783178, 2.6457513110645907, 2.8284271247461903, 3.0, 3.1622776601683795]\n"
          ]
        }
      ]
    },
    {
      "cell_type": "code",
      "source": [
        "import math\n",
        "sqrt = []\n",
        "for i in range(1,11):\n",
        "  sqrt.append(math.sqrt(i) ** 0.5)\n",
        "print(sqrt)"
      ],
      "metadata": {
        "colab": {
          "base_uri": "https://localhost:8080/"
        },
        "id": "uvCX9_a-Pk_p",
        "outputId": "63c0e017-b69c-432b-8568-90a8c53e82a1"
      },
      "execution_count": 37,
      "outputs": [
        {
          "output_type": "stream",
          "name": "stdout",
          "text": [
            "[1.0, 1.189207115002721, 1.3160740129524924, 1.4142135623730951, 1.4953487812212205, 1.5650845800732873, 1.6265765616977859, 1.6817928305074292, 1.7320508075688772, 1.7782794100389228]\n"
          ]
        }
      ]
    },
    {
      "cell_type": "code",
      "source": [
        "import math\n",
        "sqrt = []\n",
        "for i in range(1,11):\n",
        "  sqrt.append(round(math.sqrt(i), 4))       #소숫점 4째 자리에서 반올림\n",
        "print(sqrt)"
      ],
      "metadata": {
        "colab": {
          "base_uri": "https://localhost:8080/"
        },
        "id": "FkNxMOEeP2S5",
        "outputId": "b2c068fb-02be-4c43-855e-b480b5c0f29a"
      },
      "execution_count": 43,
      "outputs": [
        {
          "output_type": "stream",
          "name": "stdout",
          "text": [
            "[1.0, 1.4142, 1.7321, 2.0, 2.2361, 2.4495, 2.6458, 2.8284, 3.0, 3.1623]\n"
          ]
        }
      ]
    }
  ]
}