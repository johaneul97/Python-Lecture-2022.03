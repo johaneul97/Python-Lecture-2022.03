{
  "cells": [
    {
      "cell_type": "markdown",
      "metadata": {
        "id": "9ZRL8CRQxe58"
      },
      "source": [
        "# Unit 11. Sequence 자료형\n",
        "\n",
        "-   list, tuple, range\n",
        "-   bytes, bytearray\n",
        "\n"
      ]
    },
    {
      "cell_type": "markdown",
      "metadata": {
        "id": "mVhzkNMty1tr"
      },
      "source": [
        "## 11.1 공통기능"
      ]
    },
    {
      "cell_type": "markdown",
      "metadata": {
        "id": "jp_hnAuxy583"
      },
      "source": [
        "- 특정값 존재 여부. in 연산자"
      ]
    },
    {
      "cell_type": "code",
      "execution_count": 4,
      "metadata": {
        "colab": {
          "base_uri": "https://localhost:8080/"
        },
        "id": "KO-OKOfRyrOr",
        "outputId": "8953bb11-3b05-4320-e554-92e61f8b7a8a"
      },
      "outputs": [
        {
          "data": {
            "text/plain": [
              "True"
            ]
          },
          "execution_count": 4,
          "metadata": {},
          "output_type": "execute_result"
        }
      ],
      "source": [
        "a = [ 10, 20, 30, 40, 50]\n",
        "30 in a"
      ]
    },
    {
      "cell_type": "code",
      "execution_count": 5,
      "metadata": {
        "colab": {
          "base_uri": "https://localhost:8080/"
        },
        "id": "3qLFL9wIyv9U",
        "outputId": "acd58fed-a6cc-4b31-b126-0fed5998a613"
      },
      "outputs": [
        {
          "data": {
            "text/plain": [
              "(False, True)"
            ]
          },
          "execution_count": 5,
          "metadata": {},
          "output_type": "execute_result"
        }
      ],
      "source": [
        "29 in a, 60 not in a"
      ]
    },
    {
      "cell_type": "code",
      "execution_count": 6,
      "metadata": {
        "colab": {
          "base_uri": "https://localhost:8080/"
        },
        "id": "YOLmLJNXyzLb",
        "outputId": "19e5a500-e8d1-4831-a882-c85654e810bb"
      },
      "outputs": [
        {
          "data": {
            "text/plain": [
              "False"
            ]
          },
          "execution_count": 6,
          "metadata": {},
          "output_type": "execute_result"
        }
      ],
      "source": [
        "'P' in 'python'"
      ]
    },
    {
      "cell_type": "markdown",
      "metadata": {
        "id": "OP-h0ZcgzOJ7"
      },
      "source": [
        "- 시퀀스 객체 연결 (Concatenation): +"
      ]
    },
    {
      "cell_type": "code",
      "execution_count": 8,
      "metadata": {
        "colab": {
          "base_uri": "https://localhost:8080/"
        },
        "id": "_LHsYYivzDzU",
        "outputId": "ed1b9272-eacb-4cb5-91be-f35c5fe514ab"
      },
      "outputs": [
        {
          "data": {
            "text/plain": [
              "[0, 10, 20, 30, 9, 8, 7, 6]"
            ]
          },
          "execution_count": 8,
          "metadata": {},
          "output_type": "execute_result"
        }
      ],
      "source": [
        "a = [0, 10, 20, 30]\n",
        "b = [9, 8, 7, 6]\n",
        "a + b"
      ]
    },
    {
      "cell_type": "code",
      "execution_count": 9,
      "metadata": {
        "colab": {
          "base_uri": "https://localhost:8080/"
        },
        "id": "pLudu-EizLKL",
        "outputId": "ffe7b48b-4b2a-482c-adaf-5c30075cb34d"
      },
      "outputs": [
        {
          "data": {
            "text/plain": [
              "(1, 2, 3, 10, 20, 30)"
            ]
          },
          "execution_count": 9,
          "metadata": {},
          "output_type": "execute_result"
        }
      ],
      "source": [
        "(1,2,3) + (10, 20, 30)"
      ]
    },
    {
      "cell_type": "code",
      "execution_count": 10,
      "metadata": {
        "colab": {
          "base_uri": "https://localhost:8080/",
          "height": 35
        },
        "id": "IqXNvlPNzk3M",
        "outputId": "be974027-2f5b-41ae-b6f1-128e6aa133d9"
      },
      "outputs": [
        {
          "data": {
            "application/vnd.google.colaboratory.intrinsic+json": {
              "type": "string"
            },
            "text/plain": [
              "'HelloWorld'"
            ]
          },
          "execution_count": 10,
          "metadata": {},
          "output_type": "execute_result"
        }
      ],
      "source": [
        "'Hello' + 'World'"
      ]
    },
    {
      "cell_type": "code",
      "execution_count": 11,
      "metadata": {
        "colab": {
          "base_uri": "https://localhost:8080/",
          "height": 193
        },
        "id": "xz_DQazGzpkF",
        "outputId": "4241c481-9591-4b94-eb70-7267b546f254"
      },
      "outputs": [
        {
          "ename": "TypeError",
          "evalue": "ignored",
          "output_type": "error",
          "traceback": [
            "\u001b[0;31m---------------------------------------------------------------------------\u001b[0m",
            "\u001b[0;31mTypeError\u001b[0m                                 Traceback (most recent call last)",
            "\u001b[0;32m<ipython-input-11-9d7adece0d1d>\u001b[0m in \u001b[0;36m<module>\u001b[0;34m()\u001b[0m\n\u001b[1;32m      1\u001b[0m \u001b[0;31m# range 자체로는 안됨\u001b[0m\u001b[0;34m\u001b[0m\u001b[0;34m\u001b[0m\u001b[0;34m\u001b[0m\u001b[0m\n\u001b[0;32m----> 2\u001b[0;31m \u001b[0mrange\u001b[0m\u001b[0;34m(\u001b[0m\u001b[0;36m5\u001b[0m\u001b[0;34m)\u001b[0m \u001b[0;34m+\u001b[0m \u001b[0mrange\u001b[0m\u001b[0;34m(\u001b[0m\u001b[0;36m10\u001b[0m\u001b[0;34m)\u001b[0m\u001b[0;34m\u001b[0m\u001b[0;34m\u001b[0m\u001b[0m\n\u001b[0m",
            "\u001b[0;31mTypeError\u001b[0m: unsupported operand type(s) for +: 'range' and 'range'"
          ]
        }
      ],
      "source": [
        "# range 자체로는 안됨\n",
        "range(5) + range(10)"
      ]
    },
    {
      "cell_type": "code",
      "execution_count": 13,
      "metadata": {
        "colab": {
          "base_uri": "https://localhost:8080/"
        },
        "id": "JoW8wTuLzvmr",
        "outputId": "d2adaff0-e9c0-4dd7-d6f6-d263ffdc0bd8"
      },
      "outputs": [
        {
          "data": {
            "text/plain": [
              "[0, 1, 2, 3, 4, 10, 11, 12, 13, 14]"
            ]
          },
          "execution_count": 13,
          "metadata": {},
          "output_type": "execute_result"
        }
      ],
      "source": [
        "list(range(5)) + list(range(10,15))     #되는이유 : range가 연결된것이 아니라 list가 연결되었기 때문"
      ]
    },
    {
      "cell_type": "code",
      "execution_count": 16,
      "metadata": {
        "colab": {
          "base_uri": "https://localhost:8080/",
          "height": 193
        },
        "id": "IDZFXMpsz2m8",
        "outputId": "a3e06b0a-4c26-48b7-e21b-5a6dd55e2a95"
      },
      "outputs": [
        {
          "ename": "TypeError",
          "evalue": "ignored",
          "output_type": "error",
          "traceback": [
            "\u001b[0;31m---------------------------------------------------------------------------\u001b[0m",
            "\u001b[0;31mTypeError\u001b[0m                                 Traceback (most recent call last)",
            "\u001b[0;32m<ipython-input-16-371a8f0cda8b>\u001b[0m in \u001b[0;36m<module>\u001b[0;34m()\u001b[0m\n\u001b[1;32m      1\u001b[0m \u001b[0;31m# 문자열과 정수 숫자 연결 : Java에서는 가능\u001b[0m\u001b[0;34m\u001b[0m\u001b[0;34m\u001b[0m\u001b[0;34m\u001b[0m\u001b[0m\n\u001b[0;32m----> 2\u001b[0;31m \u001b[0;34m'Python'\u001b[0m \u001b[0;34m+\u001b[0m \u001b[0;36m3.9\u001b[0m\u001b[0;34m\u001b[0m\u001b[0;34m\u001b[0m\u001b[0m\n\u001b[0m",
            "\u001b[0;31mTypeError\u001b[0m: can only concatenate str (not \"float\") to str"
          ]
        }
      ],
      "source": [
        "# 문자열과 정수 숫자 연결 : Java에서는 가능\n",
        "'Python' + 3.9"
      ]
    },
    {
      "cell_type": "code",
      "execution_count": 18,
      "metadata": {
        "colab": {
          "base_uri": "https://localhost:8080/",
          "height": 35
        },
        "id": "3Jxs3h0Tz-6u",
        "outputId": "1b6763c9-cddd-4ae8-e659-5d50851acfe2"
      },
      "outputs": [
        {
          "data": {
            "application/vnd.google.colaboratory.intrinsic+json": {
              "type": "string"
            },
            "text/plain": [
              "'Python3.9'"
            ]
          },
          "execution_count": 18,
          "metadata": {},
          "output_type": "execute_result"
        }
      ],
      "source": [
        "'Python' + str(3.9)   #str로 숫자를 문자열로 변경하면 가능"
      ]
    },
    {
      "cell_type": "code",
      "execution_count": 19,
      "metadata": {
        "colab": {
          "base_uri": "https://localhost:8080/",
          "height": 35
        },
        "id": "FGSoLMiF0SfH",
        "outputId": "67dc8e7d-8548-4bbf-d562-8f40d28024c7"
      },
      "outputs": [
        {
          "data": {
            "application/vnd.google.colaboratory.intrinsic+json": {
              "type": "string"
            },
            "text/plain": [
              "'파이: 3.14159'"
            ]
          },
          "execution_count": 19,
          "metadata": {},
          "output_type": "execute_result"
        }
      ],
      "source": [
        "pi = 3.14159\n",
        "f'파이: {pi}' "
      ]
    },
    {
      "cell_type": "code",
      "execution_count": 21,
      "metadata": {
        "colab": {
          "base_uri": "https://localhost:8080/",
          "height": 35
        },
        "id": "qJFkamF20lEG",
        "outputId": "b51ff308-50ea-4383-8e8a-8e017aa959e6"
      },
      "outputs": [
        {
          "data": {
            "application/vnd.google.colaboratory.intrinsic+json": {
              "type": "string"
            },
            "text/plain": [
              "'파이:  3.14'"
            ]
          },
          "execution_count": 21,
          "metadata": {},
          "output_type": "execute_result"
        }
      ],
      "source": [
        "pi = 3.14159\n",
        "f'파이: {pi: .2f}'    #소수점 2째자리까지만 보이게하려면 : 2 f"
      ]
    },
    {
      "cell_type": "markdown",
      "metadata": {
        "id": "pp04wAFk04R-"
      },
      "source": [
        "- 시퀀스 객체 반복"
      ]
    },
    {
      "cell_type": "code",
      "execution_count": 25,
      "metadata": {
        "colab": {
          "base_uri": "https://localhost:8080/"
        },
        "id": "eZJF9MSV0u-r",
        "outputId": "969ff8e6-e008-4119-c55c-6e5a8cd58f95"
      },
      "outputs": [
        {
          "data": {
            "text/plain": [
              "([1, 2, 3, 1, 2, 3, 1, 2, 3], [0, 1, 2, 0, 1, 2, 0, 1, 2])"
            ]
          },
          "execution_count": 25,
          "metadata": {},
          "output_type": "execute_result"
        }
      ],
      "source": [
        "[1,2,3] * 3, 3 * [0,1,2]"
      ]
    },
    {
      "cell_type": "code",
      "execution_count": 26,
      "metadata": {
        "colab": {
          "base_uri": "https://localhost:8080/"
        },
        "id": "jvD7UpgO1DVw",
        "outputId": "11787473-112d-4b18-ed7e-9e194e30cd85"
      },
      "outputs": [
        {
          "data": {
            "text/plain": [
              "(1, 2, 3, 1, 2, 3, 1, 2, 3)"
            ]
          },
          "execution_count": 26,
          "metadata": {},
          "output_type": "execute_result"
        }
      ],
      "source": [
        "(1,2,3) * 3"
      ]
    },
    {
      "cell_type": "code",
      "execution_count": 29,
      "metadata": {
        "colab": {
          "base_uri": "https://localhost:8080/",
          "height": 35
        },
        "id": "gh6xd8Wm1Qj1",
        "outputId": "4189eab3-871d-40dc-ebb3-8a62cca8d340"
      },
      "outputs": [
        {
          "data": {
            "application/vnd.google.colaboratory.intrinsic+json": {
              "type": "string"
            },
            "text/plain": [
              "'열정!열정!열정!'"
            ]
          },
          "execution_count": 29,
          "metadata": {},
          "output_type": "execute_result"
        }
      ],
      "source": [
        "'열정!' * 3"
      ]
    },
    {
      "cell_type": "markdown",
      "metadata": {
        "id": "EHK3kXVk1h2x"
      },
      "source": [
        "## 11.2 요소 갯수"
      ]
    },
    {
      "cell_type": "code",
      "execution_count": 30,
      "metadata": {
        "colab": {
          "base_uri": "https://localhost:8080/"
        },
        "id": "pFeCpEFi1S3_",
        "outputId": "10f1b308-baca-4d3d-d539-d76f6e3f6905"
      },
      "outputs": [
        {
          "data": {
            "text/plain": [
              "[0, 10, 20, 30]"
            ]
          },
          "execution_count": 30,
          "metadata": {},
          "output_type": "execute_result"
        }
      ],
      "source": [
        "a"
      ]
    },
    {
      "cell_type": "code",
      "execution_count": 32,
      "metadata": {
        "colab": {
          "base_uri": "https://localhost:8080/"
        },
        "id": "qCe5fLP_1hEo",
        "outputId": "dbdd7fd1-12a3-43d1-e185-9b10536c2484"
      },
      "outputs": [
        {
          "data": {
            "text/plain": [
              "4"
            ]
          },
          "execution_count": 32,
          "metadata": {},
          "output_type": "execute_result"
        }
      ],
      "source": [
        "len(a)    #len = 갯수 세는것 (languege 마다 다름)"
      ]
    },
    {
      "cell_type": "code",
      "execution_count": 33,
      "metadata": {
        "colab": {
          "base_uri": "https://localhost:8080/"
        },
        "id": "GB4xGV4-1oUV",
        "outputId": "8febf210-4d95-451f-e604-5ec5bff8ad89"
      },
      "outputs": [
        {
          "data": {
            "text/plain": [
              "(4, 5, 5)"
            ]
          },
          "execution_count": 33,
          "metadata": {},
          "output_type": "execute_result"
        }
      ],
      "source": [
        "len((0,1,2,3)), len(range(5)), len('hello')"
      ]
    },
    {
      "cell_type": "code",
      "execution_count": 34,
      "metadata": {
        "colab": {
          "base_uri": "https://localhost:8080/"
        },
        "id": "yGXszysp2F_C",
        "outputId": "b1702336-8488-4f5f-cb52-d21df75837b2"
      },
      "outputs": [
        {
          "data": {
            "text/plain": [
              "6"
            ]
          },
          "execution_count": 34,
          "metadata": {},
          "output_type": "execute_result"
        }
      ],
      "source": [
        "len('안녕하세요?')"
      ]
    },
    {
      "cell_type": "code",
      "execution_count": 35,
      "metadata": {
        "colab": {
          "base_uri": "https://localhost:8080/"
        },
        "id": "zMqqJ_sZ2Lju",
        "outputId": "8104050d-6d83-4f2b-fb5c-4dc2464ab2f2"
      },
      "outputs": [
        {
          "data": {
            "text/plain": [
              "16"
            ]
          },
          "execution_count": 35,
          "metadata": {},
          "output_type": "execute_result"
        }
      ],
      "source": [
        "len('안녕하세요?'.encode('utf-8'))"
      ]
    },
    {
      "cell_type": "code",
      "execution_count": 42,
      "metadata": {
        "colab": {
          "base_uri": "https://localhost:8080/"
        },
        "id": "WYylz9ws2q7B",
        "outputId": "89584ab0-5744-4a44-e901-af36c0f804af"
      },
      "outputs": [
        {
          "data": {
            "text/plain": [
              "b'\\xec\\x95\\x88\\xeb\\x85\\x95\\xed\\x95\\x98\\xec\\x84\\xb8\\xec\\x9a\\x94?'"
            ]
          },
          "execution_count": 42,
          "metadata": {},
          "output_type": "execute_result"
        }
      ],
      "source": [
        "'안녕하세요?'.encode('utf-8')"
      ]
    },
    {
      "cell_type": "markdown",
      "metadata": {
        "id": "xtgANcUj3Mcs"
      },
      "source": [
        "## 11.3 인덱스 사용"
      ]
    },
    {
      "cell_type": "code",
      "execution_count": 56,
      "metadata": {
        "colab": {
          "base_uri": "https://localhost:8080/"
        },
        "id": "sU686iOq2vJ6",
        "outputId": "7d470d09-dcda-47cf-ec04-734f7dffb841"
      },
      "outputs": [
        {
          "data": {
            "text/plain": [
              "(38, 53, 19)"
            ]
          },
          "execution_count": 56,
          "metadata": {},
          "output_type": "execute_result"
        }
      ],
      "source": [
        "a = [38, 21, 53, 62, 19]    #양수는 0부터 음수는 -1부터\n",
        "a[0], a[2], a[4]"
      ]
    },
    {
      "cell_type": "code",
      "execution_count": 50,
      "metadata": {
        "colab": {
          "base_uri": "https://localhost:8080/"
        },
        "id": "igKZ_5Vb3o0i",
        "outputId": "e1ab1ce0-3649-43f5-bf9c-6ca58e86061a"
      },
      "outputs": [
        {
          "data": {
            "text/plain": [
              "19"
            ]
          },
          "execution_count": 50,
          "metadata": {},
          "output_type": "execute_result"
        }
      ],
      "source": [
        "# 맨 마지막 원소\n",
        "a[len(a)-1]"
      ]
    },
    {
      "cell_type": "code",
      "execution_count": 46,
      "metadata": {
        "colab": {
          "base_uri": "https://localhost:8080/"
        },
        "id": "CRGJts2w35UX",
        "outputId": "9bf558e3-a9f4-4aa4-8e92-d4ca35ee3c77"
      },
      "outputs": [
        {
          "data": {
            "text/plain": [
              "(19, 62, 38)"
            ]
          },
          "execution_count": 46,
          "metadata": {},
          "output_type": "execute_result"
        }
      ],
      "source": [
        "# 파이썬\n",
        "a[-1], a[-2], a[-5]"
      ]
    },
    {
      "cell_type": "code",
      "execution_count": 53,
      "metadata": {
        "colab": {
          "base_uri": "https://localhost:8080/"
        },
        "id": "eQSgwiOi4DuT",
        "outputId": "94e9c53f-f81e-4485-bacf-256737e13cb0"
      },
      "outputs": [
        {
          "data": {
            "text/plain": [
              "20"
            ]
          },
          "execution_count": 53,
          "metadata": {},
          "output_type": "execute_result"
        }
      ],
      "source": [
        "b = (10,20,30)\n",
        "b[1]"
      ]
    },
    {
      "cell_type": "code",
      "execution_count": 54,
      "metadata": {
        "colab": {
          "base_uri": "https://localhost:8080/"
        },
        "id": "TXzGOkI84cj0",
        "outputId": "67060ae7-50dc-4166-9e42-54c3f5e7c546"
      },
      "outputs": [
        {
          "data": {
            "text/plain": [
              "30"
            ]
          },
          "execution_count": 54,
          "metadata": {},
          "output_type": "execute_result"
        }
      ],
      "source": [
        "(10,20,30,40)[2]"
      ]
    },
    {
      "cell_type": "code",
      "execution_count": 55,
      "metadata": {
        "colab": {
          "base_uri": "https://localhost:8080/"
        },
        "id": "13Dm6yyI4gc_",
        "outputId": "72bc2c25-cd37-40ce-fe8d-d7f81c9b086c"
      },
      "outputs": [
        {
          "data": {
            "text/plain": [
              "('l', 'o')"
            ]
          },
          "execution_count": 55,
          "metadata": {},
          "output_type": "execute_result"
        }
      ],
      "source": [
        "s = 'Hello'\n",
        "s[2], s[-1]"
      ]
    },
    {
      "cell_type": "code",
      "execution_count": 57,
      "metadata": {
        "colab": {
          "base_uri": "https://localhost:8080/"
        },
        "id": "qI37E5vC4nRa",
        "outputId": "4efdb5a0-0f76-497f-e290-4bf6d3277ad6"
      },
      "outputs": [
        {
          "data": {
            "text/plain": [
              "(0, 4)"
            ]
          },
          "execution_count": 57,
          "metadata": {},
          "output_type": "execute_result"
        }
      ],
      "source": [
        "range(5)[0], range(5)[-1]"
      ]
    },
    {
      "cell_type": "code",
      "execution_count": 60,
      "metadata": {
        "colab": {
          "base_uri": "https://localhost:8080/",
          "height": 174
        },
        "id": "w3RbZb6X8u6q",
        "outputId": "ab49978c-4ad2-4af4-8e23-4330a3efb1b1"
      },
      "outputs": [
        {
          "ename": "IndexError",
          "evalue": "ignored",
          "output_type": "error",
          "traceback": [
            "\u001b[0;31m---------------------------------------------------------------------------\u001b[0m",
            "\u001b[0;31mIndexError\u001b[0m                                Traceback (most recent call last)",
            "\u001b[0;32m<ipython-input-60-630f253a45c9>\u001b[0m in \u001b[0;36m<module>\u001b[0;34m()\u001b[0m\n\u001b[0;32m----> 1\u001b[0;31m \u001b[0mb\u001b[0m\u001b[0;34m[\u001b[0m\u001b[0;36m4\u001b[0m\u001b[0;34m]\u001b[0m\u001b[0;34m\u001b[0m\u001b[0;34m\u001b[0m\u001b[0m\n\u001b[0m",
            "\u001b[0;31mIndexError\u001b[0m: tuple index out of range"
          ]
        }
      ],
      "source": [
        "b[4]"
      ]
    },
    {
      "cell_type": "markdown",
      "metadata": {
        "id": "oy46r_sD8b0W"
      },
      "source": [
        "- 요소의 값 할당"
      ]
    },
    {
      "cell_type": "code",
      "execution_count": 59,
      "metadata": {
        "colab": {
          "base_uri": "https://localhost:8080/"
        },
        "id": "vVs9EC1a8Z3T",
        "outputId": "d889bdad-b5a6-4f86-96e6-52db2a5344ec"
      },
      "outputs": [
        {
          "data": {
            "text/plain": [
              "[38, 0, 0, 0, 19]"
            ]
          },
          "execution_count": 59,
          "metadata": {},
          "output_type": "execute_result"
        }
      ],
      "source": [
        "a = [0] * 5\n",
        "a[0] = 38\n",
        "a[-1] = 19\n",
        "a"
      ]
    },
    {
      "cell_type": "code",
      "execution_count": 61,
      "metadata": {
        "colab": {
          "base_uri": "https://localhost:8080/",
          "height": 211
        },
        "id": "_MbMjjlU8oAX",
        "outputId": "51b9ac4a-46c3-4bbd-c081-61f781e78cfa"
      },
      "outputs": [
        {
          "ename": "TypeError",
          "evalue": "ignored",
          "output_type": "error",
          "traceback": [
            "\u001b[0;31m---------------------------------------------------------------------------\u001b[0m",
            "\u001b[0;31mTypeError\u001b[0m                                 Traceback (most recent call last)",
            "\u001b[0;32m<ipython-input-61-4efd46a238ef>\u001b[0m in \u001b[0;36m<module>\u001b[0;34m()\u001b[0m\n\u001b[1;32m      1\u001b[0m \u001b[0;31m# 튜플은 값을 변경할 수 없음\u001b[0m\u001b[0;34m\u001b[0m\u001b[0;34m\u001b[0m\u001b[0;34m\u001b[0m\u001b[0m\n\u001b[1;32m      2\u001b[0m \u001b[0mb\u001b[0m \u001b[0;34m=\u001b[0m \u001b[0;34m(\u001b[0m\u001b[0;36m0\u001b[0m\u001b[0;34m,\u001b[0m \u001b[0;36m0\u001b[0m\u001b[0;34m,\u001b[0m \u001b[0;36m0\u001b[0m\u001b[0;34m)\u001b[0m\u001b[0;34m\u001b[0m\u001b[0;34m\u001b[0m\u001b[0m\n\u001b[0;32m----> 3\u001b[0;31m \u001b[0mb\u001b[0m\u001b[0;34m[\u001b[0m\u001b[0;36m1\u001b[0m\u001b[0;34m]\u001b[0m \u001b[0;34m=\u001b[0m \u001b[0;36m3\u001b[0m\u001b[0;34m\u001b[0m\u001b[0;34m\u001b[0m\u001b[0m\n\u001b[0m",
            "\u001b[0;31mTypeError\u001b[0m: 'tuple' object does not support item assignment"
          ]
        }
      ],
      "source": [
        "# 튜플은 값을 변경할 수 없음\n",
        "b = (0, 0, 0)\n",
        "b[1] = 3"
      ]
    },
    {
      "cell_type": "code",
      "execution_count": 64,
      "metadata": {
        "colab": {
          "base_uri": "https://localhost:8080/",
          "height": 229
        },
        "id": "1I-EWu8988wt",
        "outputId": "26a55bb0-5a90-4142-de72-5fcee0027bbb"
      },
      "outputs": [
        {
          "ename": "TypeError",
          "evalue": "ignored",
          "output_type": "error",
          "traceback": [
            "\u001b[0;31m---------------------------------------------------------------------------\u001b[0m",
            "\u001b[0;31mTypeError\u001b[0m                                 Traceback (most recent call last)",
            "\u001b[0;32m<ipython-input-64-f2c55ccea656>\u001b[0m in \u001b[0;36m<module>\u001b[0;34m()\u001b[0m\n\u001b[1;32m      1\u001b[0m \u001b[0;31m# 스트링도 item assignment가 안됨\u001b[0m\u001b[0;34m\u001b[0m\u001b[0;34m\u001b[0m\u001b[0;34m\u001b[0m\u001b[0m\n\u001b[1;32m      2\u001b[0m \u001b[0ms\u001b[0m \u001b[0;34m=\u001b[0m \u001b[0;34m'Hello'\u001b[0m\u001b[0;34m\u001b[0m\u001b[0;34m\u001b[0m\u001b[0m\n\u001b[0;32m----> 3\u001b[0;31m \u001b[0ms\u001b[0m\u001b[0;34m[\u001b[0m\u001b[0;34m-\u001b[0m\u001b[0;36m1\u001b[0m\u001b[0;34m]\u001b[0m \u001b[0;34m=\u001b[0m \u001b[0;34m'O'\u001b[0m\u001b[0;34m\u001b[0m\u001b[0;34m\u001b[0m\u001b[0m\n\u001b[0m\u001b[1;32m      4\u001b[0m \u001b[0ms\u001b[0m\u001b[0;34m\u001b[0m\u001b[0;34m\u001b[0m\u001b[0m\n",
            "\u001b[0;31mTypeError\u001b[0m: 'str' object does not support item assignment"
          ]
        }
      ],
      "source": [
        "# 스트링도 item assignment가 안됨\n",
        "s = 'Hello'\n",
        "s[-1] = 'O'\n",
        "s"
      ]
    },
    {
      "cell_type": "markdown",
      "metadata": {
        "id": "aY9g1DMZ9oAT"
      },
      "source": [
        "- 요소 삭제"
      ]
    },
    {
      "cell_type": "code",
      "execution_count": 68,
      "metadata": {
        "colab": {
          "base_uri": "https://localhost:8080/"
        },
        "id": "3LKOJjXo9nmA",
        "outputId": "4c2a5602-2a76-46f9-d5d1-5d34159aa23a"
      },
      "outputs": [
        {
          "data": {
            "text/plain": [
              "[38]"
            ]
          },
          "execution_count": 68,
          "metadata": {},
          "output_type": "execute_result"
        }
      ],
      "source": [
        "del a[-1]       #요소값사용에서 사용한 a값마지막숫자가 사라짐\n",
        "a"
      ]
    },
    {
      "cell_type": "markdown",
      "metadata": {
        "id": "Cun7Yukr-YPX"
      },
      "source": [
        "## 11.4 Slicing"
      ]
    },
    {
      "cell_type": "markdown",
      "metadata": {
        "id": "NC1HSTZx_EJ5"
      },
      "source": [
        "- 시작:끝:증가분"
      ]
    },
    {
      "cell_type": "code",
      "execution_count": 72,
      "metadata": {
        "colab": {
          "base_uri": "https://localhost:8080/"
        },
        "id": "3Hc6Hc1o95SD",
        "outputId": "e6ab73f3-f7b9-4cc7-f2b2-8571899fd0b6"
      },
      "outputs": [
        {
          "data": {
            "text/plain": [
              "[20, 30, 40]"
            ]
          },
          "execution_count": 72,
          "metadata": {},
          "output_type": "execute_result"
        }
      ],
      "source": [
        "a = [0, 10, 20, 30, 40, 50, 60, 70, 80, 90]     #숫자1 : 숫자2 = 숫자1에서 부터 숫자 2까지 모두\n",
        "a[2:5]    #20, 30, 40"
      ]
    },
    {
      "cell_type": "code",
      "execution_count": 75,
      "metadata": {
        "colab": {
          "base_uri": "https://localhost:8080/"
        },
        "id": "8DDr-Uro-Vn0",
        "outputId": "f187fcaf-6d15-4865-93e0-1cf004838bb6"
      },
      "outputs": [
        {
          "data": {
            "text/plain": [
              "[40, 50, 60, 70]"
            ]
          },
          "execution_count": 75,
          "metadata": {},
          "output_type": "execute_result"
        }
      ],
      "source": [
        "a = [0, 10, 20, 30, 40, 50, 60, 70, 80, 90]     \n",
        "a[4:8]    "
      ]
    },
    {
      "cell_type": "code",
      "execution_count": 76,
      "metadata": {
        "colab": {
          "base_uri": "https://localhost:8080/"
        },
        "id": "juwpm0b0-9qY",
        "outputId": "8f1fc73d-b28a-434b-d7c0-5821895a1982"
      },
      "outputs": [
        {
          "data": {
            "text/plain": [
              "[0, 20, 40, 60, 80]"
            ]
          },
          "execution_count": 76,
          "metadata": {},
          "output_type": "execute_result"
        }
      ],
      "source": [
        "a[0:-1:2]"
      ]
    },
    {
      "cell_type": "code",
      "execution_count": 77,
      "metadata": {
        "colab": {
          "base_uri": "https://localhost:8080/"
        },
        "id": "c8lv5uAW_TXk",
        "outputId": "f76629b5-1078-41f8-fb0d-cb2018e63360"
      },
      "outputs": [
        {
          "data": {
            "text/plain": [
              "[90, 60, 30]"
            ]
          },
          "execution_count": 77,
          "metadata": {},
          "output_type": "execute_result"
        }
      ],
      "source": [
        "a[-1:0:-3]"
      ]
    },
    {
      "cell_type": "markdown",
      "metadata": {
        "id": "u0aIjwWg_4VJ"
      },
      "source": [
        "- 인덱스 생략. 시작과 끝"
      ]
    },
    {
      "cell_type": "code",
      "execution_count": 79,
      "metadata": {
        "colab": {
          "base_uri": "https://localhost:8080/"
        },
        "id": "y-o3SymT_n2f",
        "outputId": "e48b9ef4-da7c-4606-8343-7bb62d0a0834"
      },
      "outputs": [
        {
          "data": {
            "text/plain": [
              "[30, 40, 50, 60, 70, 80, 90]"
            ]
          },
          "execution_count": 79,
          "metadata": {},
          "output_type": "execute_result"
        }
      ],
      "source": [
        "a[3:] #3번째부터 끝까지"
      ]
    },
    {
      "cell_type": "code",
      "execution_count": 80,
      "metadata": {
        "colab": {
          "base_uri": "https://localhost:8080/"
        },
        "id": "acxUaam1_w1h",
        "outputId": "6cdb2a1f-1cb9-42a6-b244-af30d7c4999b"
      },
      "outputs": [
        {
          "data": {
            "text/plain": [
              "([0, 10, 20], [0, 10, 20])"
            ]
          },
          "execution_count": 80,
          "metadata": {},
          "output_type": "execute_result"
        }
      ],
      "source": [
        "a[:3], a[0:3]"
      ]
    },
    {
      "cell_type": "code",
      "execution_count": 81,
      "metadata": {
        "colab": {
          "base_uri": "https://localhost:8080/"
        },
        "id": "fgB_cu3BAA8p",
        "outputId": "1e2ded83-fc12-4332-d27d-1079a1128ed9"
      },
      "outputs": [
        {
          "data": {
            "text/plain": [
              "([70, 80, 90], [70, 80], [70, 80, 90])"
            ]
          },
          "execution_count": 81,
          "metadata": {},
          "output_type": "execute_result"
        }
      ],
      "source": [
        "a[7:], a[7:9], a[7:10]"
      ]
    },
    {
      "cell_type": "markdown",
      "metadata": {
        "id": "ISskWvUUAPjc"
      },
      "source": [
        "- 모든요소"
      ]
    },
    {
      "cell_type": "code",
      "execution_count": 83,
      "metadata": {
        "colab": {
          "base_uri": "https://localhost:8080/"
        },
        "id": "jOWC3gdVAIZY",
        "outputId": "7ea77439-a964-41d2-d3b0-05fba239296b"
      },
      "outputs": [
        {
          "data": {
            "text/plain": [
              "[0, 10, 20, 30, 40, 50, 60, 70, 80, 90]"
            ]
          },
          "execution_count": 83,
          "metadata": {},
          "output_type": "execute_result"
        }
      ],
      "source": [
        "a[:]    #모두"
      ]
    },
    {
      "cell_type": "markdown",
      "metadata": {
        "id": "jBLvdCreAbW4"
      },
      "source": [
        "- 모든 요소를 뒤집어서 출력\n"
      ]
    },
    {
      "cell_type": "code",
      "execution_count": 87,
      "metadata": {
        "colab": {
          "base_uri": "https://localhost:8080/"
        },
        "id": "h4ZoLdF0ASY3",
        "outputId": "79a61f97-8f6c-4675-cb21-e37d471326f5"
      },
      "outputs": [
        {
          "data": {
            "text/plain": [
              "[90, 80, 70, 60, 50, 40, 30, 20, 10, 0]"
            ]
          },
          "execution_count": 87,
          "metadata": {},
          "output_type": "execute_result"
        }
      ],
      "source": [
        "a[: : -1]    #시작 : 끝 : -1"
      ]
    },
    {
      "cell_type": "code",
      "execution_count": 89,
      "metadata": {
        "colab": {
          "base_uri": "https://localhost:8080/"
        },
        "id": "AVshkhdxBKMz",
        "outputId": "07d5862c-a785-46b8-ed18-5c1cb9719a64"
      },
      "outputs": [
        {
          "data": {
            "text/plain": [
              "True"
            ]
          },
          "execution_count": 89,
          "metadata": {},
          "output_type": "execute_result"
        }
      ],
      "source": [
        "# 대칭 단어(Palindrome)\n",
        "s = 'madam'\n",
        "s[::-1] ==s"
      ]
    },
    {
      "cell_type": "code",
      "execution_count": 92,
      "metadata": {
        "colab": {
          "base_uri": "https://localhost:8080/"
        },
        "id": "GMs5MIEvBa-H",
        "outputId": "80728f60-8a27-4a76-fe92-3715847d22c1"
      },
      "outputs": [
        {
          "data": {
            "text/plain": [
              "('mad', 'dam')"
            ]
          },
          "execution_count": 92,
          "metadata": {},
          "output_type": "execute_result"
        }
      ],
      "source": [
        "s[:3], s[2:]"
      ]
    },
    {
      "cell_type": "markdown",
      "metadata": {
        "id": "e_c9AievCVac"
      },
      "source": [
        "- 슬라이스에 요소 할당"
      ]
    },
    {
      "cell_type": "code",
      "execution_count": 95,
      "metadata": {
        "colab": {
          "base_uri": "https://localhost:8080/"
        },
        "id": "C3Iq3uDgCAzF",
        "outputId": "a436e6fb-cce3-4adc-b966-b4c43f6d5617"
      },
      "outputs": [
        {
          "data": {
            "text/plain": [
              "[0, 10, 'a', 'b', 'c', 50, 60, 70, 80, 90]"
            ]
          },
          "execution_count": 95,
          "metadata": {},
          "output_type": "execute_result"
        }
      ],
      "source": [
        "a[2:5] = ['a', 'b', 'c']     #a[시작 : 끝] = [글자1 ,글자2, 글자3] = 시작하는곳에서 부터 끝까지 글자 1,2,3을 넣는다\n",
        "a"
      ]
    },
    {
      "cell_type": "code",
      "execution_count": 101,
      "metadata": {
        "colab": {
          "base_uri": "https://localhost:8080/"
        },
        "id": "F_Y1nsByCUPK",
        "outputId": "2365ab15-f603-4d17-d3ec-9770b4f191b2"
      },
      "outputs": [
        {
          "data": {
            "text/plain": [
              "[['A', 'B', 'C'], 10, 'a', 'b', 'c', 50, 60, 'x', 'y', 'Z']"
            ]
          },
          "execution_count": 101,
          "metadata": {},
          "output_type": "execute_result"
        }
      ],
      "source": [
        "a[-2:] = ['Z']    # -2까지 지우고 글자(Z)삽입\n",
        "a"
      ]
    },
    {
      "cell_type": "code",
      "execution_count": 102,
      "metadata": {
        "colab": {
          "base_uri": "https://localhost:8080/"
        },
        "id": "w83i9OGcC17J",
        "outputId": "d7653d8e-fb62-4ca3-97a2-66ba5497d9be"
      },
      "outputs": [
        {
          "data": {
            "text/plain": [
              "[['A', 'B', 'C'], 10, 'a', 'b', 'c', 50, 60, 'x', 'y', 'Z']"
            ]
          },
          "execution_count": 102,
          "metadata": {},
          "output_type": "execute_result"
        }
      ],
      "source": [
        "a[0] = list('ABC')          #0번째 지우고 [글자] 삽입\n",
        "a"
      ]
    },
    {
      "cell_type": "code",
      "execution_count": 99,
      "metadata": {
        "colab": {
          "base_uri": "https://localhost:8080/"
        },
        "id": "-_aMZ_gWC7yL",
        "outputId": "28283134-6648-41f7-b1d1-52408706e906"
      },
      "outputs": [
        {
          "data": {
            "text/plain": [
              "[['A', 'B', 'C'], 10, 'a', 'b', 'c', 50, 60, ['x', 'y', 'z'], 'Z']"
            ]
          },
          "execution_count": 99,
          "metadata": {},
          "output_type": "execute_result"
        }
      ],
      "source": [
        "a[7] = list('xyz')\n",
        "a"
      ]
    },
    {
      "cell_type": "code",
      "execution_count": 100,
      "metadata": {
        "colab": {
          "base_uri": "https://localhost:8080/"
        },
        "id": "7WZ6KzD8DM_n",
        "outputId": "e6a1c981-c149-4186-8f53-e223fd92ab7b"
      },
      "outputs": [
        {
          "data": {
            "text/plain": [
              "[['A', 'B', 'C'], 10, 'a', 'b', 'c', 50, 60, 'x', 'y', 'z', 'Z']"
            ]
          },
          "execution_count": 100,
          "metadata": {},
          "output_type": "execute_result"
        }
      ],
      "source": [
        "a[7:8] = list('xyz')\n",
        "a"
      ]
    },
    {
      "cell_type": "code",
      "execution_count": 103,
      "metadata": {
        "colab": {
          "base_uri": "https://localhost:8080/",
          "height": 229
        },
        "id": "HVYE5eg8DS2r",
        "outputId": "44981f37-b44d-4a34-e0a5-00fb444b01ef"
      },
      "outputs": [
        {
          "ename": "TypeError",
          "evalue": "ignored",
          "output_type": "error",
          "traceback": [
            "\u001b[0;31m---------------------------------------------------------------------------\u001b[0m",
            "\u001b[0;31mTypeError\u001b[0m                                 Traceback (most recent call last)",
            "\u001b[0;32m<ipython-input-103-2de55c22b1ad>\u001b[0m in \u001b[0;36m<module>\u001b[0;34m()\u001b[0m\n\u001b[1;32m      1\u001b[0m \u001b[0;31m#안되는 예\u001b[0m\u001b[0;34m\u001b[0m\u001b[0;34m\u001b[0m\u001b[0;34m\u001b[0m\u001b[0m\n\u001b[1;32m      2\u001b[0m \u001b[0ms\u001b[0m \u001b[0;34m=\u001b[0m \u001b[0;34m'hello'\u001b[0m\u001b[0;34m\u001b[0m\u001b[0;34m\u001b[0m\u001b[0m\n\u001b[0;32m----> 3\u001b[0;31m \u001b[0ms\u001b[0m\u001b[0;34m[\u001b[0m\u001b[0;36m1\u001b[0m\u001b[0;34m:\u001b[0m\u001b[0;36m2\u001b[0m\u001b[0;34m]\u001b[0m \u001b[0;34m=\u001b[0m \u001b[0;34m'EEE'\u001b[0m\u001b[0;34m\u001b[0m\u001b[0;34m\u001b[0m\u001b[0m\n\u001b[0m\u001b[1;32m      4\u001b[0m \u001b[0ms\u001b[0m\u001b[0;34m\u001b[0m\u001b[0;34m\u001b[0m\u001b[0m\n",
            "\u001b[0;31mTypeError\u001b[0m: 'str' object does not support item assignment"
          ]
        }
      ],
      "source": [
        "#안되는 예\n",
        "s = 'hello'\n",
        "s[1:2] = 'EEE'\n",
        "s"
      ]
    },
    {
      "cell_type": "code",
      "execution_count": 106,
      "metadata": {
        "colab": {
          "base_uri": "https://localhost:8080/",
          "height": 35
        },
        "id": "x2rFwC9XEB_4",
        "outputId": "a740d6a6-755c-4739-e7b0-4e023ba810b5"
      },
      "outputs": [
        {
          "data": {
            "application/vnd.google.colaboratory.intrinsic+json": {
              "type": "string"
            },
            "text/plain": [
              "'hEEEllo'"
            ]
          },
          "execution_count": 106,
          "metadata": {},
          "output_type": "execute_result"
        }
      ],
      "source": [
        "s = s.replace('e','EEE')     # s를 replace로 hello의 e를 EEE로 변경 replace(바꿀단어, 바뀔단어)\n",
        "s                            # 문자가 2개 들어가있는(hello=ll) 것은 둘다 개별로 바뀝니다. ex) replace('l','LL') = hello =>heLLLLo"
      ]
    },
    {
      "cell_type": "markdown",
      "metadata": {
        "id": "EGWodX_mFLtD"
      },
      "source": [
        "- 슬라이스 삭제 (tuple,range,str에서는안됨)"
      ]
    },
    {
      "cell_type": "code",
      "execution_count": 107,
      "metadata": {
        "colab": {
          "base_uri": "https://localhost:8080/"
        },
        "id": "izncvQ8sFehN",
        "outputId": "fb90a004-3953-48f8-8446-abd8ed908426"
      },
      "outputs": [
        {
          "data": {
            "text/plain": [
              "[['A', 'B', 'C'], 10, 'a', 'b', 'c', 50, 60, 'x', 'y', 'Z']"
            ]
          },
          "execution_count": 107,
          "metadata": {},
          "output_type": "execute_result"
        }
      ],
      "source": [
        "a"
      ]
    },
    {
      "cell_type": "code",
      "execution_count": 109,
      "metadata": {
        "colab": {
          "base_uri": "https://localhost:8080/"
        },
        "id": "hVoKbGNUE_aG",
        "outputId": "499a6703-be7c-492f-d59d-4a8bfe58d187"
      },
      "outputs": [
        {
          "data": {
            "text/plain": [
              "[0, 1, 2, 7, 8, 9]"
            ]
          },
          "execution_count": 109,
          "metadata": {},
          "output_type": "execute_result"
        }
      ],
      "source": [
        "a = list(range(10))\n",
        "del a[3:7]\n",
        "a"
      ]
    },
    {
      "cell_type": "code",
      "execution_count": 110,
      "metadata": {
        "colab": {
          "base_uri": "https://localhost:8080/"
        },
        "id": "oGG1QrL5EXh9",
        "outputId": "877a3a06-31c6-41f2-cb33-1f2941e4a43b"
      },
      "outputs": [
        {
          "data": {
            "text/plain": [
              "[1, 3, 5, 7, 9]"
            ]
          },
          "execution_count": 110,
          "metadata": {},
          "output_type": "execute_result"
        }
      ],
      "source": [
        "a = list(range(10))\n",
        "del a[::2]\n",
        "a"
      ]
    }
  ],
  "metadata": {
    "colab": {
      "collapsed_sections": [],
      "name": "u11_Sequence.ipynb",
      "provenance": []
    },
    "kernelspec": {
      "display_name": "Python 3",
      "name": "python3"
    },
    "language_info": {
      "name": "python"
    }
  },
  "nbformat": 4,
  "nbformat_minor": 0
}
