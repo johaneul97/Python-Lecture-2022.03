{
  "cells": [
    {
      "cell_type": "markdown",
      "metadata": {
        "id": "ccorDFvBhhLR"
      },
      "source": [
        "#Unit 10. 리스트와 튜플"
      ]
    },
    {
      "cell_type": "markdown",
      "metadata": {
        "id": "GJbPl9rHh7sr"
      },
      "source": [
        "## 10.1 리스트(List)"
      ]
    },
    {
      "cell_type": "code",
      "execution_count": 2,
      "metadata": {
        "colab": {
          "base_uri": "https://localhost:8080/"
        },
        "id": "vhDm0DIxhmj9",
        "outputId": "352cfe00-41ce-413e-8070-6780c2ac8de4"
      },
      "outputs": [
        {
          "data": {
            "text/plain": [
              "[38, 21, 53, 62, 19]"
            ]
          },
          "execution_count": 2,
          "metadata": {},
          "output_type": "execute_result"
        }
      ],
      "source": [
        "a = [38,21,53,62,19]\n",
        "a"
      ]
    },
    {
      "cell_type": "code",
      "execution_count": 6,
      "metadata": {
        "colab": {
          "base_uri": "https://localhost:8080/"
        },
        "id": "1hErHgUeiUZA",
        "outputId": "ec50ca56-350f-469c-e0ca-4ef93a7dc27b"
      },
      "outputs": [
        {
          "data": {
            "text/plain": [
              "[57, 23, 30, 57, 45, 21, 42, 53, 10, 40]"
            ]
          },
          "execution_count": 6,
          "metadata": {},
          "output_type": "execute_result"
        }
      ],
      "source": [
        "import numpy as np\n",
        "b = list(np.random.randint(10,70,10))\n",
        "b"
      ]
    },
    {
      "cell_type": "code",
      "execution_count": 7,
      "metadata": {
        "colab": {
          "base_uri": "https://localhost:8080/"
        },
        "id": "z7StmI9ZidoC",
        "outputId": "09b1b632-b8fd-4be0-f973-a0cc21e37811"
      },
      "outputs": [
        {
          "data": {
            "text/plain": [
              "['james', 27, 175.3, '남']"
            ]
          },
          "execution_count": 7,
          "metadata": {},
          "output_type": "execute_result"
        }
      ],
      "source": [
        "# 리스트에는 여러 자료형을 사용할 수 있음\n",
        "person = ['james', 27, 175.3, '남']\n",
        "person"
      ]
    },
    {
      "cell_type": "code",
      "execution_count": 10,
      "metadata": {
        "colab": {
          "base_uri": "https://localhost:8080/"
        },
        "id": "9tpPEATZjjy2",
        "outputId": "ba761e5b-4bf8-4d27-ee00-7e80e72cc1af"
      },
      "outputs": [
        {
          "data": {
            "text/plain": [
              "{'age': 27, 'gender': '남', 'height': 175.3, 'name': 'james'}"
            ]
          },
          "execution_count": 10,
          "metadata": {},
          "output_type": "execute_result"
        }
      ],
      "source": [
        "# 위의 리스트는 아래와 같은 딕셔너리로 표현하는 것이 더 좋다\n",
        "{'name':'james', 'age':27, 'height':175.3, 'gender':'남'}"
      ]
    },
    {
      "cell_type": "markdown",
      "metadata": {
        "id": "3AZ4fs1ikcd6"
      },
      "source": [
        "- 빈리스트 만들기"
      ]
    },
    {
      "cell_type": "code",
      "execution_count": 29,
      "metadata": {
        "id": "V4fQKpoXj8RP"
      },
      "outputs": [],
      "source": [
        "a = []\n",
        "b = list()\n",
        "a, b = [],[]     #위에 두개와 아래와 동일"
      ]
    },
    {
      "cell_type": "code",
      "execution_count": 43,
      "metadata": {
        "colab": {
          "base_uri": "https://localhost:8080/"
        },
        "id": "c5WN7oy6koM4",
        "outputId": "cc2759fb-3a90-4274-bf57-c97090cac963"
      },
      "outputs": [
        {
          "data": {
            "text/plain": [
              "[79, 73, 72, 99, 61]"
            ]
          },
          "execution_count": 43,
          "metadata": {},
          "output_type": "execute_result"
        }
      ],
      "source": [
        "import random\n",
        "a = []\n",
        "for i in range(5):\n",
        "  a.append(random.randint(60,100))\n",
        "a"
      ]
    },
    {
      "cell_type": "code",
      "execution_count": 20,
      "metadata": {
        "colab": {
          "base_uri": "https://localhost:8080/"
        },
        "id": "zv4tbvqMk_R6",
        "outputId": "6c260e20-8449-49e8-c30b-c3a9e99cbf29"
      },
      "outputs": [
        {
          "data": {
            "text/plain": [
              "[0, 1, 2, 3, 4]"
            ]
          },
          "execution_count": 20,
          "metadata": {},
          "output_type": "execute_result"
        }
      ],
      "source": [
        "# range parameter 1개 : 횟수 의미(0 ~ n-1)\n",
        "list(range(5))"
      ]
    },
    {
      "cell_type": "code",
      "execution_count": 21,
      "metadata": {
        "colab": {
          "base_uri": "https://localhost:8080/"
        },
        "id": "Xs_Akwy5ltbk",
        "outputId": "3113577d-7421-4f95-8512-f7843d5dcd16"
      },
      "outputs": [
        {
          "data": {
            "text/plain": [
              "[1, 2, 3, 4, 5, 6, 7, 8, 9]"
            ]
          },
          "execution_count": 21,
          "metadata": {},
          "output_type": "execute_result"
        }
      ],
      "source": [
        "# range parameter 2개 : 시작, 끝 의미(시작 ~ 끝-1)\n",
        "list(range(1,10))"
      ]
    },
    {
      "cell_type": "code",
      "execution_count": 22,
      "metadata": {
        "colab": {
          "base_uri": "https://localhost:8080/"
        },
        "id": "Fu1P4HBhl7pu",
        "outputId": "91a21a6e-0c6c-4139-ca23-b5c9878c0b1d"
      },
      "outputs": [
        {
          "data": {
            "text/plain": [
              "[1, 3, 5, 7, 9]"
            ]
          },
          "execution_count": 22,
          "metadata": {},
          "output_type": "execute_result"
        }
      ],
      "source": [
        "# range parameter 3개 : 시작, 끝, 증가폭 의미\n",
        "list(range(1,10,2))"
      ]
    },
    {
      "cell_type": "code",
      "execution_count": 24,
      "metadata": {
        "colab": {
          "base_uri": "https://localhost:8080/"
        },
        "id": "GUTJuoMemEJl",
        "outputId": "8c93b5a0-4f3d-4449-ae97-e212df675399"
      },
      "outputs": [
        {
          "data": {
            "text/plain": [
              "[10, 8, 6, 4, 2]"
            ]
          },
          "execution_count": 24,
          "metadata": {},
          "output_type": "execute_result"
        }
      ],
      "source": [
        "list(range(10,0,-2))    #0은 포함을 안함 : 끝수(end) - 증가폭 "
      ]
    },
    {
      "cell_type": "markdown",
      "metadata": {
        "id": "DVilLhpNnEj-"
      },
      "source": [
        "## 10.2 튜플(tuple)"
      ]
    },
    {
      "cell_type": "code",
      "execution_count": 27,
      "metadata": {
        "colab": {
          "base_uri": "https://localhost:8080/"
        },
        "id": "LltQLmCCmP7a",
        "outputId": "eabb1734-28bb-4a43-b9f1-8c517eab2d87"
      },
      "outputs": [
        {
          "data": {
            "text/plain": [
              "['james', 27, 175.3, '남']"
            ]
          },
          "execution_count": 27,
          "metadata": {},
          "output_type": "execute_result"
        }
      ],
      "source": [
        "person"
      ]
    },
    {
      "cell_type": "code",
      "execution_count": 28,
      "metadata": {
        "colab": {
          "base_uri": "https://localhost:8080/"
        },
        "id": "_ViaiFfonJ79",
        "outputId": "0e32d9d8-da70-4630-8b7b-617ce7194aea"
      },
      "outputs": [
        {
          "data": {
            "text/plain": [
              "('james', 27, 175.3, '남')"
            ]
          },
          "execution_count": 28,
          "metadata": {},
          "output_type": "execute_result"
        }
      ],
      "source": [
        "person = ('james', 27, 175.3, '남')       # 파이썬에서 \n",
        "person"
      ]
    },
    {
      "cell_type": "code",
      "execution_count": 32,
      "metadata": {
        "colab": {
          "base_uri": "https://localhost:8080/"
        },
        "id": "mnW4d9tCnSp6",
        "outputId": "33edbce7-f584-46b2-dd40-1ab393828fae"
      },
      "outputs": [
        {
          "data": {
            "text/plain": [
              "int"
            ]
          },
          "execution_count": 32,
          "metadata": {},
          "output_type": "execute_result"
        }
      ],
      "source": [
        "size = (3)\n",
        "type(size)"
      ]
    },
    {
      "cell_type": "code",
      "execution_count": 34,
      "metadata": {
        "colab": {
          "base_uri": "https://localhost:8080/"
        },
        "id": "nCp6WjWyn88h",
        "outputId": "a89eb445-46a4-431b-990e-1e86b924a712"
      },
      "outputs": [
        {
          "data": {
            "text/plain": [
              "tuple"
            ]
          },
          "execution_count": 34,
          "metadata": {},
          "output_type": "execute_result"
        }
      ],
      "source": [
        "size = (3,)   # 1개짜리 뒤에는 ,를 붙혀야 튜플이 됩니다\n",
        "type(size)"
      ]
    },
    {
      "cell_type": "code",
      "execution_count": 35,
      "metadata": {
        "colab": {
          "base_uri": "https://localhost:8080/"
        },
        "id": "zy1l614DoCw-",
        "outputId": "90cdbfd4-6d53-4649-c1df-4dafdb794736"
      },
      "outputs": [
        {
          "data": {
            "text/plain": [
              "tuple"
            ]
          },
          "execution_count": 35,
          "metadata": {},
          "output_type": "execute_result"
        }
      ],
      "source": [
        "size = 3,   # 괄호는 없어도 ,는 있어야됩니다\n",
        "type(size)"
      ]
    },
    {
      "cell_type": "markdown",
      "metadata": {
        "id": "c5P38kXIoWnn"
      },
      "source": [
        "-튜플은 요소를 변경,추가,삭제할 수도 없다."
      ]
    },
    {
      "cell_type": "code",
      "execution_count": 37,
      "metadata": {
        "colab": {
          "base_uri": "https://localhost:8080/"
        },
        "id": "9PTlxuR7oNAu",
        "outputId": "aef6094b-0094-4be9-84ba-6379255398af"
      },
      "outputs": [
        {
          "data": {
            "text/plain": [
              "tuple"
            ]
          },
          "execution_count": 37,
          "metadata": {},
          "output_type": "execute_result"
        }
      ],
      "source": [
        "t = ()    #새로운 코드를 추가할수 없습니다. 반복문을 사용하려면 리스트와 반복문\n",
        "type(t)"
      ]
    },
    {
      "cell_type": "code",
      "execution_count": 41,
      "metadata": {
        "colab": {
          "base_uri": "https://localhost:8080/"
        },
        "id": "M0tZUwfloghq",
        "outputId": "ad8ea7eb-d291-46d7-bf36-079a53fa6961"
      },
      "outputs": [
        {
          "data": {
            "text/plain": [
              "(0, 1, 2, 3, 4)"
            ]
          },
          "execution_count": 41,
          "metadata": {},
          "output_type": "execute_result"
        }
      ],
      "source": [
        "t = tuple(range(5))\n",
        "t"
      ]
    },
    {
      "cell_type": "markdown",
      "metadata": {
        "id": "JJZSk0mjo-UD"
      },
      "source": [
        "- 리스트 <=> 튜플"
      ]
    },
    {
      "cell_type": "code",
      "execution_count": 46,
      "metadata": {
        "colab": {
          "base_uri": "https://localhost:8080/"
        },
        "id": "J6a35Pjpo2jf",
        "outputId": "825b73f6-e9b7-4e27-c1e8-ff780e177a3b"
      },
      "outputs": [
        {
          "data": {
            "text/plain": [
              "list"
            ]
          },
          "execution_count": 46,
          "metadata": {},
          "output_type": "execute_result"
        }
      ],
      "source": [
        "l = list(t)       #리스트안에 함수를넣으면 리스트\n",
        "type(l)"
      ]
    },
    {
      "cell_type": "code",
      "execution_count": 47,
      "metadata": {
        "colab": {
          "base_uri": "https://localhost:8080/"
        },
        "id": "dZnLe8icpJSr",
        "outputId": "885e250d-20cc-4db7-db55-ec2b9c8f683e"
      },
      "outputs": [
        {
          "data": {
            "text/plain": [
              "tuple"
            ]
          },
          "execution_count": 47,
          "metadata": {},
          "output_type": "execute_result"
        }
      ],
      "source": [
        "type(tuple(l))    #튜플안에 함수를넣으면 튜플"
      ]
    },
    {
      "cell_type": "markdown",
      "metadata": {
        "id": "5zbUIYVLpXxH"
      },
      "source": [
        "- 리스트에 문자열 넣기"
      ]
    },
    {
      "cell_type": "code",
      "execution_count": 48,
      "metadata": {
        "colab": {
          "base_uri": "https://localhost:8080/"
        },
        "id": "rYU7EvOUpM_9",
        "outputId": "962750f5-560d-4546-f852-5318205be6b9"
      },
      "outputs": [
        {
          "data": {
            "text/plain": [
              "['안', '녕', '하', '세', '요']"
            ]
          },
          "execution_count": 48,
          "metadata": {},
          "output_type": "execute_result"
        }
      ],
      "source": [
        "list('안녕하세요')"
      ]
    },
    {
      "cell_type": "code",
      "execution_count": 49,
      "metadata": {
        "colab": {
          "base_uri": "https://localhost:8080/"
        },
        "id": "dyVc6Gr4pfOC",
        "outputId": "8a2c87e9-cd70-49a8-8f56-c4be25b112cd"
      },
      "outputs": [
        {
          "data": {
            "text/plain": [
              "['a', 'b', 'c', 'd']"
            ]
          },
          "execution_count": 49,
          "metadata": {},
          "output_type": "execute_result"
        }
      ],
      "source": [
        "list('abcd')"
      ]
    },
    {
      "cell_type": "code",
      "execution_count": 52,
      "metadata": {
        "colab": {
          "base_uri": "https://localhost:8080/"
        },
        "id": "rCJ0hd74pqaE",
        "outputId": "1b8df3f0-6b26-4e7d-82f7-69212682721f"
      },
      "outputs": [
        {
          "data": {
            "text/plain": [
              "('a', 'b', 'c', 'd')"
            ]
          },
          "execution_count": 52,
          "metadata": {},
          "output_type": "execute_result"
        }
      ],
      "source": [
        "a, b, c, d, = 'a', 'b', 'c', 'd'\n",
        "a, b, c, d"
      ]
    },
    {
      "cell_type": "code",
      "execution_count": 53,
      "metadata": {
        "colab": {
          "base_uri": "https://localhost:8080/"
        },
        "id": "psQdtzpAp7fW",
        "outputId": "d76eaa4d-9200-4bc7-d6bc-e09645dc2d13"
      },
      "outputs": [
        {
          "data": {
            "text/plain": [
              "('a', 'b', 'c', 'd')"
            ]
          },
          "execution_count": 53,
          "metadata": {},
          "output_type": "execute_result"
        }
      ],
      "source": [
        "a, b, c, d = list('abcd')\n",
        "a, b, c, d"
      ]
    },
    {
      "cell_type": "code",
      "execution_count": 54,
      "metadata": {
        "colab": {
          "base_uri": "https://localhost:8080/"
        },
        "id": "A4D32ykFqHfW",
        "outputId": "9b4c5e2a-beb9-4ca9-d7ff-79be779cdd04"
      },
      "outputs": [
        {
          "data": {
            "text/plain": [
              "(0, 1, 2)"
            ]
          },
          "execution_count": 54,
          "metadata": {},
          "output_type": "execute_result"
        }
      ],
      "source": [
        "x, y, z= range(3)\n",
        "x, y, z"
      ]
    },
    {
      "cell_type": "code",
      "execution_count": 55,
      "metadata": {
        "colab": {
          "base_uri": "https://localhost:8080/"
        },
        "id": "vtDNeF8yqO4x",
        "outputId": "9c8abc20-c83a-4eb6-9eed-76310920d91c"
      },
      "outputs": [
        {
          "name": "stdout",
          "output_type": "stream",
          "text": [
            "10 20 30\n"
          ]
        },
        {
          "data": {
            "text/plain": [
              "('10', '20', '30')"
            ]
          },
          "execution_count": 55,
          "metadata": {},
          "output_type": "execute_result"
        }
      ],
      "source": [
        "x, y, z = input().split()\n",
        "x, y, z"
      ]
    },
    {
      "cell_type": "code",
      "execution_count": 57,
      "metadata": {
        "colab": {
          "base_uri": "https://localhost:8080/"
        },
        "id": "SelBEvayqkfw",
        "outputId": "105fe9ec-18be-45a5-c8c4-680dec0cdaed"
      },
      "outputs": [
        {
          "name": "stdout",
          "output_type": "stream",
          "text": [
            "10 20 30\n"
          ]
        },
        {
          "data": {
            "text/plain": [
              "(10, 20, 30)"
            ]
          },
          "execution_count": 57,
          "metadata": {},
          "output_type": "execute_result"
        }
      ],
      "source": [
        "x, y, z = map(int, input(). split())\n",
        "x, y, z"
      ]
    },
    {
      "cell_type": "code",
      "execution_count": 59,
      "metadata": {
        "colab": {
          "base_uri": "https://localhost:8080/"
        },
        "id": "Jlkz6xTXquJs",
        "outputId": "eb62299b-a363-48df-e591-c63e5c67a51d"
      },
      "outputs": [
        {
          "name": "stdout",
          "output_type": "stream",
          "text": [
            "10 20 30\n"
          ]
        },
        {
          "data": {
            "text/plain": [
              "(25, 45, 65)"
            ]
          },
          "execution_count": 59,
          "metadata": {},
          "output_type": "execute_result"
        }
      ],
      "source": [
        "x, y, z = map(lambda x: int(x)*2 + 5 , input(). split())\n",
        "x, y, z"
      ]
    }
  ],
  "metadata": {
    "colab": {
      "name": "u10_리스트와 튜플.ipynb",
      "provenance": []
    },
    "kernelspec": {
      "display_name": "Python 3",
      "name": "python3"
    },
    "language_info": {
      "name": "python"
    }
  },
  "nbformat": 4,
  "nbformat_minor": 0
}
