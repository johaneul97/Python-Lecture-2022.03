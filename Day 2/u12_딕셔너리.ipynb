{
  "cells": [
    {
      "cell_type": "markdown",
      "metadata": {
        "id": "xCdr3nGWU6lk"
      },
      "source": [
        "# Unit 12.0 딕셔너리"
      ]
    },
    {
      "cell_type": "code",
      "execution_count": 6,
      "metadata": {
        "colab": {
          "base_uri": "https://localhost:8080/"
        },
        "id": "W285EGIsVBff",
        "outputId": "5fa53411-7d55-4deb-bd40-5b1dbd7ac026"
      },
      "outputs": [
        {
          "data": {
            "text/plain": [
              "[490, 334, 550, 18.72]"
            ]
          },
          "execution_count": 6,
          "metadata": {},
          "output_type": "execute_result"
        }
      ],
      "source": [
        "lux1 = [490, 334, 550, 18.72]\n",
        "lux1"
      ]
    },
    {
      "cell_type": "code",
      "execution_count": 5,
      "metadata": {
        "colab": {
          "base_uri": "https://localhost:8080/"
        },
        "id": "HES3urmcXGKx",
        "outputId": "8097232d-3b55-4fd3-8782-f2e1662860f7"
      },
      "outputs": [
        {
          "data": {
            "text/plain": [
              "{'armor': 18.72, 'health': 490, 'mana': 334, 'melee': 550}"
            ]
          },
          "execution_count": 5,
          "metadata": {},
          "output_type": "execute_result"
        }
      ],
      "source": [
        "lux2 = {'health':490, 'mana':334, 'melee':550, 'armor':18.72}\n",
        "lux2"
      ]
    },
    {
      "cell_type": "code",
      "execution_count": 7,
      "metadata": {
        "colab": {
          "base_uri": "https://localhost:8080/"
        },
        "id": "NzOKFFmiXVqx",
        "outputId": "02522448-8dfd-4a9f-edfe-06e12e4b41e0"
      },
      "outputs": [
        {
          "data": {
            "text/plain": [
              "18.72"
            ]
          },
          "execution_count": 7,
          "metadata": {},
          "output_type": "execute_result"
        }
      ],
      "source": [
        "armor = lux2['armor']\n",
        "armor"
      ]
    },
    {
      "cell_type": "markdown",
      "metadata": {
        "id": "gpGQuGkSXeNE"
      },
      "source": [
        "- 12.1 딕셔너리 만들기"
      ]
    },
    {
      "cell_type": "code",
      "execution_count": 8,
      "metadata": {
        "colab": {
          "base_uri": "https://localhost:8080/"
        },
        "id": "1xw-9sUYXc5M",
        "outputId": "774a2ae2-4410-4675-9dd2-2dd760112b65"
      },
      "outputs": [
        {
          "data": {
            "text/plain": [
              "{'armor': 18.72, 'health': 490, 'mana': 334, 'melee': 550}"
            ]
          },
          "execution_count": 8,
          "metadata": {},
          "output_type": "execute_result"
        }
      ],
      "source": [
        "lux = {'health':490, 'mana':334, 'melee':550, 'armor':18.72}       #중괄호로 잡고 키값을 준다[키값 : health,mana,melee,armor]\n",
        "lux"
      ]
    },
    {
      "cell_type": "code",
      "execution_count": 9,
      "metadata": {
        "colab": {
          "base_uri": "https://localhost:8080/"
        },
        "id": "Xqsj9MfnX8Za",
        "outputId": "e034fd53-1beb-4891-85fa-6d92111256a1"
      },
      "outputs": [
        {
          "data": {
            "text/plain": [
              "{'armor': 18.72, 'health': 490, 'mana': 334, 'melee': 550}"
            ]
          },
          "execution_count": 9,
          "metadata": {},
          "output_type": "execute_result"
        }
      ],
      "source": [
        "lux = {'health':490, 'mana':334, 'melee':550, 'armor':18.72, 'mana': 334}       \n",
        "lux"
      ]
    },
    {
      "cell_type": "code",
      "execution_count": 11,
      "metadata": {
        "colab": {
          "base_uri": "https://localhost:8080/"
        },
        "id": "s4Y6hJgeYMA-",
        "outputId": "0769a3b1-ea39-4f4b-9e3b-3005eb40ff3a"
      },
      "outputs": [
        {
          "data": {
            "text/plain": [
              "OrderedDict([('health', 490), ('mana', 334), ('armor', 18.72)])"
            ]
          },
          "execution_count": 11,
          "metadata": {},
          "output_type": "execute_result"
        }
      ],
      "source": [
        "from collections import OrderedDict   #딕셔너리는 키값의 순서가 보장이 되지않습니다.\n",
        "d = OrderedDict()                     #순서를 보장하려면 OrderedDict를 넣어야합니다. \n",
        "d['health'] = 490\n",
        "d['mana'] = 334\n",
        "d['armor'] = 18.72\n",
        "d"
      ]
    },
    {
      "cell_type": "markdown",
      "metadata": {
        "id": "lsc8ZSipZQ9n"
      },
      "source": [
        "- 12.2 빈딕셔너리 만들기"
      ]
    },
    {
      "cell_type": "code",
      "execution_count": 12,
      "metadata": {
        "colab": {
          "base_uri": "https://localhost:8080/"
        },
        "id": "z6GtSatZYjhz",
        "outputId": "03541b5d-65e7-4834-bdff-e77a3ee2bdab"
      },
      "outputs": [
        {
          "data": {
            "text/plain": [
              "(dict, dict)"
            ]
          },
          "execution_count": 12,
          "metadata": {},
          "output_type": "execute_result"
        }
      ],
      "source": [
        "a = {}        #빈괄호만두면 딕셔너리\n",
        "b = dict()\n",
        "type(a), type(b)"
      ]
    },
    {
      "cell_type": "code",
      "execution_count": 13,
      "metadata": {
        "colab": {
          "base_uri": "https://localhost:8080/"
        },
        "id": "RpG0wb3YZe9S",
        "outputId": "f8dac2b6-f935-49c6-e5db-d1eb162a7105"
      },
      "outputs": [
        {
          "data": {
            "text/plain": [
              "set"
            ]
          },
          "execution_count": 13,
          "metadata": {},
          "output_type": "execute_result"
        }
      ],
      "source": [
        "c = set([1,2,3])\n",
        "type(c)"
      ]
    },
    {
      "cell_type": "markdown",
      "metadata": {
        "id": "EG-hizehZ1Bf"
      },
      "source": [
        "- dict() 로 딕셔너리 생성"
      ]
    },
    {
      "cell_type": "code",
      "execution_count": 14,
      "metadata": {
        "colab": {
          "base_uri": "https://localhost:8080/"
        },
        "id": "kLkt85euZqXO",
        "outputId": "bc039999-a6af-4de7-9323-0c0300b8e016"
      },
      "outputs": [
        {
          "data": {
            "text/plain": [
              "{'armor': 18.72, 'health': 490, 'mana': 334, 'melee': 550}"
            ]
          },
          "execution_count": 14,
          "metadata": {},
          "output_type": "execute_result"
        }
      ],
      "source": [
        "lux1 = dict(health=490, mana=334, melee=550, armor=18.72)   # 키=값 형식으로 딕셔너리를 만듦\n",
        "lux1"
      ]
    },
    {
      "cell_type": "code",
      "execution_count": 18,
      "metadata": {
        "colab": {
          "base_uri": "https://localhost:8080/"
        },
        "id": "MRClZSBkaHLI",
        "outputId": "79830e4a-bb02-479c-8788-5d0286651a61"
      },
      "outputs": [
        {
          "data": {
            "text/plain": [
              "[('health', 490), ('mana', 334), ('melee', 550), ('armor', 18.72)]"
            ]
          },
          "execution_count": 18,
          "metadata": {},
          "output_type": "execute_result"
        }
      ],
      "source": [
        "keys = ['health', 'mana', 'melee', 'armor']\n",
        "values = [490, 334, 550, 18.72]\n",
        "list(zip(keys, values))"
      ]
    },
    {
      "cell_type": "code",
      "execution_count": 19,
      "metadata": {
        "colab": {
          "base_uri": "https://localhost:8080/"
        },
        "id": "byvmOEpTamTa",
        "outputId": "b0b7f262-57a4-4d17-e446-c7a858535a3c"
      },
      "outputs": [
        {
          "data": {
            "text/plain": [
              "{'armor': 18.72, 'health': 490, 'mana': 334, 'melee': 550}"
            ]
          },
          "execution_count": 19,
          "metadata": {},
          "output_type": "execute_result"
        }
      ],
      "source": [
        "lux2 = dict(zip(keys, values))\n",
        "lux2"
      ]
    },
    {
      "cell_type": "code",
      "execution_count": 20,
      "metadata": {
        "colab": {
          "base_uri": "https://localhost:8080/"
        },
        "id": "VyWiHdiMa84s",
        "outputId": "e7e760f4-8166-427a-bb21-073f4f930059"
      },
      "outputs": [
        {
          "data": {
            "text/plain": [
              "{'armor': 18.72, 'health': 490, 'mana': 334, 'melee': 550}"
            ]
          },
          "execution_count": 20,
          "metadata": {},
          "output_type": "execute_result"
        }
      ],
      "source": [
        "lux3 = dict([('health', 490), ('mana', 334), ('melee', 550), ('armor', 18.72)])\n",
        "lux3"
      ]
    },
    {
      "cell_type": "markdown",
      "metadata": {
        "id": "oNH5daeebiLb"
      },
      "source": [
        "- 추천 방법"
      ]
    },
    {
      "cell_type": "code",
      "execution_count": 23,
      "metadata": {
        "id": "HtspeDvabWhU"
      },
      "outputs": [],
      "source": [
        "lux2 = {'health':490, 'mana':334, 'melee':550, 'armor':18.72}       #대부분 사용하는 방법\n",
        "lux2 = dict(zip(keys, values))                                      #리스트 2개를 1개로 만드는 방법(logic)"
      ]
    },
    {
      "cell_type": "markdown",
      "metadata": {
        "id": "bVFG3myPc4Jf"
      },
      "source": [
        "## 12.2 딕셔너리 키에 접근하고 값 할당하기"
      ]
    },
    {
      "cell_type": "code",
      "execution_count": 24,
      "metadata": {
        "colab": {
          "base_uri": "https://localhost:8080/"
        },
        "id": "GqKgrumebu-Y",
        "outputId": "7231566b-7ac9-493f-f81e-04753de9ef1d"
      },
      "outputs": [
        {
          "data": {
            "text/plain": [
              "334"
            ]
          },
          "execution_count": 24,
          "metadata": {},
          "output_type": "execute_result"
        }
      ],
      "source": [
        "lux['mana']"
      ]
    },
    {
      "cell_type": "code",
      "execution_count": 25,
      "metadata": {
        "colab": {
          "base_uri": "https://localhost:8080/"
        },
        "id": "ErZ4kvb1dBTt",
        "outputId": "28e99183-5f1b-427f-98e8-661917ea842a"
      },
      "outputs": [
        {
          "data": {
            "text/plain": [
              "{'armor': 21.34, 'health': 490, 'mana': 334, 'melee': 550}"
            ]
          },
          "execution_count": 25,
          "metadata": {},
          "output_type": "execute_result"
        }
      ],
      "source": [
        "lux['armor'] = 21.34\n",
        "lux"
      ]
    },
    {
      "cell_type": "code",
      "execution_count": 26,
      "metadata": {
        "colab": {
          "base_uri": "https://localhost:8080/"
        },
        "id": "tKEVq4hedI-8",
        "outputId": "5687f80b-3bf0-4a1a-93f1-661cca2ab1ef"
      },
      "outputs": [
        {
          "data": {
            "text/plain": [
              "{'armor': 21.34, 'health': 490, 'mana': 334, 'melee': 550, 'new': 'Kim'}"
            ]
          },
          "execution_count": 26,
          "metadata": {},
          "output_type": "execute_result"
        }
      ],
      "source": [
        "lux['new']= 'Kim'\n",
        "lux"
      ]
    },
    {
      "cell_type": "markdown",
      "metadata": {
        "id": "yibyqgaqdqXj"
      },
      "source": [
        "- 자료구조, DB\n",
        "\n",
        "C Create\n",
        "\n",
        "R Read , Retrieve\n",
        "\n",
        "U Update\n",
        "\n",
        "D Delete"
      ]
    },
    {
      "cell_type": "code",
      "execution_count": 27,
      "metadata": {
        "colab": {
          "base_uri": "https://localhost:8080/",
          "height": 174
        },
        "id": "FGRJvIyGdVuE",
        "outputId": "82e5f810-3fb3-4611-b973-a7ba9c12e511"
      },
      "outputs": [
        {
          "ename": "KeyError",
          "evalue": "ignored",
          "output_type": "error",
          "traceback": [
            "\u001b[0;31m---------------------------------------------------------------------------\u001b[0m",
            "\u001b[0;31mKeyError\u001b[0m                                  Traceback (most recent call last)",
            "\u001b[0;32m<ipython-input-27-69b3bda4e409>\u001b[0m in \u001b[0;36m<module>\u001b[0;34m()\u001b[0m\n\u001b[0;32m----> 1\u001b[0;31m \u001b[0mlux\u001b[0m\u001b[0;34m[\u001b[0m\u001b[0;34m'origin'\u001b[0m\u001b[0;34m]\u001b[0m\u001b[0;34m\u001b[0m\u001b[0;34m\u001b[0m\u001b[0m\n\u001b[0m",
            "\u001b[0;31mKeyError\u001b[0m: 'origin'"
          ]
        }
      ],
      "source": [
        "lux['origin']"
      ]
    },
    {
      "cell_type": "markdown",
      "metadata": {
        "id": "eSQmP4nqg3tV"
      },
      "source": [
        "- in 연산자: key가 있는지 확인"
      ]
    },
    {
      "cell_type": "code",
      "execution_count": 28,
      "metadata": {
        "colab": {
          "base_uri": "https://localhost:8080/"
        },
        "id": "9Q_RQ5CJg2D_",
        "outputId": "ce3bdb4a-22f7-406d-a555-66f5bdbe1167"
      },
      "outputs": [
        {
          "data": {
            "text/plain": [
              "True"
            ]
          },
          "execution_count": 28,
          "metadata": {},
          "output_type": "execute_result"
        }
      ],
      "source": [
        "'health' in lux"
      ]
    },
    {
      "cell_type": "code",
      "execution_count": 29,
      "metadata": {
        "colab": {
          "base_uri": "https://localhost:8080/"
        },
        "id": "Ptg2I7EMg_Rc",
        "outputId": "cad694aa-2997-473e-9b47-8101c09d13a8"
      },
      "outputs": [
        {
          "data": {
            "text/plain": [
              "5"
            ]
          },
          "execution_count": 29,
          "metadata": {},
          "output_type": "execute_result"
        }
      ],
      "source": [
        "len(lux)"
      ]
    }
  ],
  "metadata": {
    "colab": {
      "collapsed_sections": [],
      "name": "u12_딕셔너리.ipynb",
      "provenance": []
    },
    "kernelspec": {
      "display_name": "Python 3",
      "name": "python3"
    },
    "language_info": {
      "name": "python"
    }
  },
  "nbformat": 4,
  "nbformat_minor": 0
}
